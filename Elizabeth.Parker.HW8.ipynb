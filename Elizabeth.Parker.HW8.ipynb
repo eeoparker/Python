{
 "cells": [
  {
   "cell_type": "markdown",
   "metadata": {},
   "source": [
    "# Assignment\n",
    "\n",
    "We build on the feature engineering we did in the last assignment and run k-means on the data with RFM features in order to do **customer segmentation**. Since k-means is unsupervised, we will also encounter challenges around interpreting results at the end. "
   ]
  },
  {
   "cell_type": "code",
   "execution_count": 1,
   "metadata": {},
   "outputs": [],
   "source": [
    "import pandas as pd\n",
    "import numpy as np\n",
    "import seaborn as sns\n",
    "\n",
    "import matplotlib.pyplot as plt\n",
    "%matplotlib inline\n",
    "\n",
    "from sklearn.cluster import KMeans\n",
    "\n",
    "\n"
   ]
  },
  {
   "cell_type": "code",
   "execution_count": 2,
   "metadata": {},
   "outputs": [
    {
     "data": {
      "text/html": [
       "<div>\n",
       "<style scoped>\n",
       "    .dataframe tbody tr th:only-of-type {\n",
       "        vertical-align: middle;\n",
       "    }\n",
       "\n",
       "    .dataframe tbody tr th {\n",
       "        vertical-align: top;\n",
       "    }\n",
       "\n",
       "    .dataframe thead th {\n",
       "        text-align: right;\n",
       "    }\n",
       "</style>\n",
       "<table border=\"1\" class=\"dataframe\">\n",
       "  <thead>\n",
       "    <tr style=\"text-align: right;\">\n",
       "      <th></th>\n",
       "      <th>user_id</th>\n",
       "      <th>gender</th>\n",
       "      <th>address</th>\n",
       "      <th>store_id</th>\n",
       "      <th>trans_id</th>\n",
       "      <th>timestamp</th>\n",
       "      <th>item_id</th>\n",
       "      <th>quantity</th>\n",
       "      <th>dollar</th>\n",
       "    </tr>\n",
       "  </thead>\n",
       "  <tbody>\n",
       "    <tr>\n",
       "      <th>0</th>\n",
       "      <td>101981</td>\n",
       "      <td>F</td>\n",
       "      <td>E</td>\n",
       "      <td>2860</td>\n",
       "      <td>818463</td>\n",
       "      <td>11/1/2000 0:00</td>\n",
       "      <td>4.710000e+12</td>\n",
       "      <td>1</td>\n",
       "      <td>37</td>\n",
       "    </tr>\n",
       "    <tr>\n",
       "      <th>1</th>\n",
       "      <td>101981</td>\n",
       "      <td>F</td>\n",
       "      <td>E</td>\n",
       "      <td>2861</td>\n",
       "      <td>818464</td>\n",
       "      <td>11/1/2000 0:00</td>\n",
       "      <td>4.710000e+12</td>\n",
       "      <td>1</td>\n",
       "      <td>17</td>\n",
       "    </tr>\n",
       "    <tr>\n",
       "      <th>2</th>\n",
       "      <td>101981</td>\n",
       "      <td>F</td>\n",
       "      <td>E</td>\n",
       "      <td>2862</td>\n",
       "      <td>818465</td>\n",
       "      <td>11/1/2000 0:00</td>\n",
       "      <td>4.710000e+12</td>\n",
       "      <td>1</td>\n",
       "      <td>23</td>\n",
       "    </tr>\n",
       "    <tr>\n",
       "      <th>3</th>\n",
       "      <td>101981</td>\n",
       "      <td>F</td>\n",
       "      <td>E</td>\n",
       "      <td>2863</td>\n",
       "      <td>818466</td>\n",
       "      <td>11/1/2000 0:00</td>\n",
       "      <td>4.710000e+12</td>\n",
       "      <td>1</td>\n",
       "      <td>41</td>\n",
       "    </tr>\n",
       "    <tr>\n",
       "      <th>4</th>\n",
       "      <td>101981</td>\n",
       "      <td>F</td>\n",
       "      <td>E</td>\n",
       "      <td>2864</td>\n",
       "      <td>818467</td>\n",
       "      <td>11/1/2000 0:00</td>\n",
       "      <td>4.710000e+12</td>\n",
       "      <td>8</td>\n",
       "      <td>288</td>\n",
       "    </tr>\n",
       "  </tbody>\n",
       "</table>\n",
       "</div>"
      ],
      "text/plain": [
       "   user_id gender address  store_id  trans_id       timestamp       item_id  \\\n",
       "0   101981      F       E      2860    818463  11/1/2000 0:00  4.710000e+12   \n",
       "1   101981      F       E      2861    818464  11/1/2000 0:00  4.710000e+12   \n",
       "2   101981      F       E      2862    818465  11/1/2000 0:00  4.710000e+12   \n",
       "3   101981      F       E      2863    818466  11/1/2000 0:00  4.710000e+12   \n",
       "4   101981      F       E      2864    818467  11/1/2000 0:00  4.710000e+12   \n",
       "\n",
       "   quantity  dollar  \n",
       "0         1      37  \n",
       "1         1      17  \n",
       "2         1      23  \n",
       "3         1      41  \n",
       "4         8     288  "
      ]
     },
     "execution_count": 2,
     "metadata": {},
     "output_type": "execute_result"
    }
   ],
   "source": [
    "import pandas as pd\n",
    "col_names = ['user_id', 'gender', 'address', 'store_id', 'trans_id', 'timestamp', 'item_id', 'quantity', 'dollar']\n",
    "churn = pd.read_csv(\"../data/retail-churn.csv\", sep = \",\", skiprows = 1, names = col_names)\n",
    "churn.head()"
   ]
  },
  {
   "cell_type": "markdown",
   "metadata": {},
   "source": [
    "Run the feature engineering steps on the data to extract RFM features.  "
   ]
  },
  {
   "cell_type": "code",
   "execution_count": 3,
   "metadata": {},
   "outputs": [
    {
     "name": "stdout",
     "output_type": "stream",
     "text": [
      "(37058, 5)\n"
     ]
    },
    {
     "data": {
      "text/html": [
       "<div>\n",
       "<style scoped>\n",
       "    .dataframe tbody tr th:only-of-type {\n",
       "        vertical-align: middle;\n",
       "    }\n",
       "\n",
       "    .dataframe tbody tr th {\n",
       "        vertical-align: top;\n",
       "    }\n",
       "\n",
       "    .dataframe thead th {\n",
       "        text-align: right;\n",
       "    }\n",
       "</style>\n",
       "<table border=\"1\" class=\"dataframe\">\n",
       "  <thead>\n",
       "    <tr style=\"text-align: right;\">\n",
       "      <th></th>\n",
       "      <th>user_id</th>\n",
       "      <th>date</th>\n",
       "      <th>dollar_roll_sum_7D</th>\n",
       "      <th>quantity_roll_sum_7D</th>\n",
       "      <th>last_visit_ndays</th>\n",
       "    </tr>\n",
       "  </thead>\n",
       "  <tbody>\n",
       "    <tr>\n",
       "      <th>0</th>\n",
       "      <td>1113</td>\n",
       "      <td>2000-11-12</td>\n",
       "      <td>420.0</td>\n",
       "      <td>5.0</td>\n",
       "      <td>118.0</td>\n",
       "    </tr>\n",
       "    <tr>\n",
       "      <th>1</th>\n",
       "      <td>1113</td>\n",
       "      <td>2000-11-26</td>\n",
       "      <td>558.0</td>\n",
       "      <td>3.0</td>\n",
       "      <td>14.0</td>\n",
       "    </tr>\n",
       "    <tr>\n",
       "      <th>2</th>\n",
       "      <td>1113</td>\n",
       "      <td>2000-11-27</td>\n",
       "      <td>1182.0</td>\n",
       "      <td>9.0</td>\n",
       "      <td>1.0</td>\n",
       "    </tr>\n",
       "    <tr>\n",
       "      <th>3</th>\n",
       "      <td>1113</td>\n",
       "      <td>2001-01-06</td>\n",
       "      <td>628.0</td>\n",
       "      <td>9.0</td>\n",
       "      <td>40.0</td>\n",
       "    </tr>\n",
       "    <tr>\n",
       "      <th>4</th>\n",
       "      <td>1250</td>\n",
       "      <td>2001-02-04</td>\n",
       "      <td>734.0</td>\n",
       "      <td>5.0</td>\n",
       "      <td>118.0</td>\n",
       "    </tr>\n",
       "  </tbody>\n",
       "</table>\n",
       "</div>"
      ],
      "text/plain": [
       "   user_id       date  dollar_roll_sum_7D  quantity_roll_sum_7D  \\\n",
       "0     1113 2000-11-12               420.0                   5.0   \n",
       "1     1113 2000-11-26               558.0                   3.0   \n",
       "2     1113 2000-11-27              1182.0                   9.0   \n",
       "3     1113 2001-01-06               628.0                   9.0   \n",
       "4     1250 2001-02-04               734.0                   5.0   \n",
       "\n",
       "   last_visit_ndays  \n",
       "0             118.0  \n",
       "1              14.0  \n",
       "2               1.0  \n",
       "3              40.0  \n",
       "4             118.0  "
      ]
     },
     "execution_count": 3,
     "metadata": {},
     "output_type": "execute_result"
    }
   ],
   "source": [
    "churn['date'] =  pd.to_datetime(pd.to_datetime(churn['timestamp'], format = '%m/%d/%Y %H:%M').dt.date)\n",
    "churn_agg = churn.groupby(['user_id', 'date']).agg({'dollar': 'sum', 'quantity': 'sum'})\n",
    "churn_agg = churn_agg.reset_index()\n",
    "churn_roll = pd.DataFrame()\n",
    "churn_roll['dollar_roll_sum_7D'] = churn_agg.groupby('user_id').rolling(window = '7D', on = 'date')['dollar'].sum()\n",
    "churn_roll['quantity_roll_sum_7D'] = churn_agg.groupby('user_id').rolling(window = '7D', on = 'date')['quantity'].sum()\n",
    "churn_roll = churn_roll.reset_index()\n",
    "churn_roll['last_visit_ndays'] = churn_agg.groupby('user_id')['date'].diff(periods = 1).dt.days\n",
    "print(churn_roll.shape)\n",
    "\n",
    "# Should we impute or drop NaN/NaT in churn_roll['last_visit_ndays']?\n",
    "imputation_value = churn_roll['last_visit_ndays'].max() # None # \n",
    "if imputation_value is None:\n",
    "    # Drop (Remove all rows with NaN):\n",
    "    churn_roll.dropna(inplace = True)\n",
    "    print(churn_roll.shape)\n",
    "else:\n",
    "    # Impute (Replace all NaN in last_visit_ndays):\n",
    "    churn_roll['last_visit_ndays'] = churn_roll['last_visit_ndays'].fillna(imputation_value)\n",
    "\n",
    "churn_roll.head()"
   ]
  },
  {
   "cell_type": "markdown",
   "metadata": {},
   "source": [
    "The RFM features are:  'dollar_roll_sum_7D', 'quantity_roll_sum_7D', 'last_visit_ndays'"
   ]
  },
  {
   "cell_type": "markdown",
   "metadata": {},
   "source": [
    "1. Train a k-means algorithm on the 3 normalized RFM features using $k = 10$. What are the cluster centroids? The cluster centroids should be reported in the **original scale**, not the normalized scale. <span style=\"color:red\" float:right>[2 point]</span> "
   ]
  },
  {
   "cell_type": "markdown",
   "metadata": {},
   "source": [
    "I copied the below code from the class lecture and adapted it to this data set. First I normalized the data and then assigned the number of clusters to 10. I then used the rescaled data to create the clusters and then present the clusters but those are the normalized scale. Below I report it on the original scale.  "
   ]
  },
  {
   "cell_type": "code",
   "execution_count": 4,
   "metadata": {
    "tags": []
   },
   "outputs": [
    {
     "name": "stdout",
     "output_type": "stream",
     "text": [
      "scaled cluster centroids:\n"
     ]
    },
    {
     "data": {
      "text/html": [
       "<div>\n",
       "<style scoped>\n",
       "    .dataframe tbody tr th:only-of-type {\n",
       "        vertical-align: middle;\n",
       "    }\n",
       "\n",
       "    .dataframe tbody tr th {\n",
       "        vertical-align: top;\n",
       "    }\n",
       "\n",
       "    .dataframe thead th {\n",
       "        text-align: right;\n",
       "    }\n",
       "</style>\n",
       "<table border=\"1\" class=\"dataframe\">\n",
       "  <thead>\n",
       "    <tr style=\"text-align: right;\">\n",
       "      <th></th>\n",
       "      <th>dollar_roll_sum_7D</th>\n",
       "      <th>quantity_roll_sum_7D</th>\n",
       "      <th>last_visit_ndays</th>\n",
       "    </tr>\n",
       "  </thead>\n",
       "  <tbody>\n",
       "    <tr>\n",
       "      <th>0</th>\n",
       "      <td>-0.368764</td>\n",
       "      <td>-0.312372</td>\n",
       "      <td>-0.683511</td>\n",
       "    </tr>\n",
       "    <tr>\n",
       "      <th>1</th>\n",
       "      <td>0.666070</td>\n",
       "      <td>0.563981</td>\n",
       "      <td>1.498450</td>\n",
       "    </tr>\n",
       "    <tr>\n",
       "      <th>2</th>\n",
       "      <td>1.067349</td>\n",
       "      <td>0.956984</td>\n",
       "      <td>-0.685185</td>\n",
       "    </tr>\n",
       "    <tr>\n",
       "      <th>3</th>\n",
       "      <td>8.944504</td>\n",
       "      <td>43.944981</td>\n",
       "      <td>-0.831760</td>\n",
       "    </tr>\n",
       "    <tr>\n",
       "      <th>4</th>\n",
       "      <td>9.860147</td>\n",
       "      <td>3.717116</td>\n",
       "      <td>-0.657675</td>\n",
       "    </tr>\n",
       "    <tr>\n",
       "      <th>5</th>\n",
       "      <td>-0.306505</td>\n",
       "      <td>-0.271662</td>\n",
       "      <td>1.539893</td>\n",
       "    </tr>\n",
       "    <tr>\n",
       "      <th>6</th>\n",
       "      <td>0.167097</td>\n",
       "      <td>0.219371</td>\n",
       "      <td>-0.723222</td>\n",
       "    </tr>\n",
       "    <tr>\n",
       "      <th>7</th>\n",
       "      <td>21.614177</td>\n",
       "      <td>10.192770</td>\n",
       "      <td>-0.771665</td>\n",
       "    </tr>\n",
       "    <tr>\n",
       "      <th>8</th>\n",
       "      <td>3.106452</td>\n",
       "      <td>2.095733</td>\n",
       "      <td>-0.434910</td>\n",
       "    </tr>\n",
       "    <tr>\n",
       "      <th>9</th>\n",
       "      <td>-0.275777</td>\n",
       "      <td>-0.264317</td>\n",
       "      <td>0.085807</td>\n",
       "    </tr>\n",
       "  </tbody>\n",
       "</table>\n",
       "</div>"
      ],
      "text/plain": [
       "   dollar_roll_sum_7D  quantity_roll_sum_7D  last_visit_ndays\n",
       "0           -0.368764             -0.312372         -0.683511\n",
       "1            0.666070              0.563981          1.498450\n",
       "2            1.067349              0.956984         -0.685185\n",
       "3            8.944504             43.944981         -0.831760\n",
       "4            9.860147              3.717116         -0.657675\n",
       "5           -0.306505             -0.271662          1.539893\n",
       "6            0.167097              0.219371         -0.723222\n",
       "7           21.614177             10.192770         -0.771665\n",
       "8            3.106452              2.095733         -0.434910\n",
       "9           -0.275777             -0.264317          0.085807"
      ]
     },
     "metadata": {},
     "output_type": "display_data"
    },
    {
     "name": "stdout",
     "output_type": "stream",
     "text": [
      "\n",
      "Number of items in each cluster:\n",
      "0    13171\n",
      "5     8228\n",
      "6     7016\n",
      "9     3386\n",
      "2     2480\n",
      "1     2094\n",
      "8      578\n",
      "4       70\n",
      "7       25\n",
      "3       10\n",
      "Name: cluster, dtype: int64\n"
     ]
    }
   ],
   "source": [
    "churn_rescaled = churn_roll[['dollar_roll_sum_7D','quantity_roll_sum_7D','last_visit_ndays']] # this section is the normalization code\n",
    "churn_rescaled = churn_rescaled.apply(lambda x: (x - x.mean()) / x.std(), axis = 0)\n",
    "churn_rescaled.head().round(2)\n",
    "\n",
    "n_clusters = 10 # the number of clusters (k)\n",
    "ClusterCols2D = ['dollar_roll_sum_7D','quantity_roll_sum_7D','last_visit_ndays'] # this is assigning the number of clusters and the columns to a name\n",
    "\n",
    "X = churn_rescaled[ClusterCols2D]\n",
    "kmeans = KMeans(n_clusters = n_clusters) # step 1: initialize\n",
    "kmeans.fit(X) # step 2, learn the clusters\n",
    "churn_rescaled['cluster'] = kmeans.predict(X) # step 3, assign a cluster to each row\n",
    "churn_rescaled.head().round(2)\n",
    "\n",
    "print('scaled cluster centroids:')\n",
    "ScaledCentroids = pd.DataFrame(kmeans.cluster_centers_, columns=ClusterCols2D)\n",
    "display(ScaledCentroids)\n",
    "print('\\nNumber of items in each cluster:')\n",
    "print(churn_rescaled.cluster.value_counts())\n"
   ]
  },
  {
   "cell_type": "markdown",
   "metadata": {},
   "source": [
    "These are the centroids presented with the orginal data. I unnormalized them with the below code. "
   ]
  },
  {
   "cell_type": "code",
   "execution_count": 5,
   "metadata": {},
   "outputs": [
    {
     "data": {
      "text/html": [
       "<div>\n",
       "<style scoped>\n",
       "    .dataframe tbody tr th:only-of-type {\n",
       "        vertical-align: middle;\n",
       "    }\n",
       "\n",
       "    .dataframe tbody tr th {\n",
       "        vertical-align: top;\n",
       "    }\n",
       "\n",
       "    .dataframe thead th {\n",
       "        text-align: right;\n",
       "    }\n",
       "</style>\n",
       "<table border=\"1\" class=\"dataframe\">\n",
       "  <thead>\n",
       "    <tr style=\"text-align: right;\">\n",
       "      <th></th>\n",
       "      <th>dollar_roll_sum_7D</th>\n",
       "      <th>quantity_roll_sum_7D</th>\n",
       "      <th>last_visit_ndays</th>\n",
       "    </tr>\n",
       "  </thead>\n",
       "  <tbody>\n",
       "    <tr>\n",
       "      <th>0</th>\n",
       "      <td>468.203854</td>\n",
       "      <td>6.256506</td>\n",
       "      <td>10.704727</td>\n",
       "    </tr>\n",
       "    <tr>\n",
       "      <th>1</th>\n",
       "      <td>2616.724665</td>\n",
       "      <td>25.395315</td>\n",
       "      <td>115.273423</td>\n",
       "    </tr>\n",
       "    <tr>\n",
       "      <th>2</th>\n",
       "      <td>3449.858933</td>\n",
       "      <td>33.978173</td>\n",
       "      <td>10.624495</td>\n",
       "    </tr>\n",
       "    <tr>\n",
       "      <th>3</th>\n",
       "      <td>19804.400000</td>\n",
       "      <td>972.800000</td>\n",
       "      <td>3.600000</td>\n",
       "    </tr>\n",
       "    <tr>\n",
       "      <th>4</th>\n",
       "      <td>21705.457143</td>\n",
       "      <td>94.257143</td>\n",
       "      <td>11.942857</td>\n",
       "    </tr>\n",
       "    <tr>\n",
       "      <th>5</th>\n",
       "      <td>597.465857</td>\n",
       "      <td>7.145565</td>\n",
       "      <td>117.259538</td>\n",
       "    </tr>\n",
       "    <tr>\n",
       "      <th>6</th>\n",
       "      <td>1580.758060</td>\n",
       "      <td>17.869330</td>\n",
       "      <td>8.801569</td>\n",
       "    </tr>\n",
       "    <tr>\n",
       "      <th>7</th>\n",
       "      <td>46109.160000</td>\n",
       "      <td>235.680000</td>\n",
       "      <td>6.480000</td>\n",
       "    </tr>\n",
       "    <tr>\n",
       "      <th>8</th>\n",
       "      <td>7683.443674</td>\n",
       "      <td>58.847487</td>\n",
       "      <td>22.618718</td>\n",
       "    </tr>\n",
       "    <tr>\n",
       "      <th>9</th>\n",
       "      <td>661.263204</td>\n",
       "      <td>7.305990</td>\n",
       "      <td>47.573621</td>\n",
       "    </tr>\n",
       "  </tbody>\n",
       "</table>\n",
       "</div>"
      ],
      "text/plain": [
       "   dollar_roll_sum_7D  quantity_roll_sum_7D  last_visit_ndays\n",
       "0          468.203854              6.256506         10.704727\n",
       "1         2616.724665             25.395315        115.273423\n",
       "2         3449.858933             33.978173         10.624495\n",
       "3        19804.400000            972.800000          3.600000\n",
       "4        21705.457143             94.257143         11.942857\n",
       "5          597.465857              7.145565        117.259538\n",
       "6         1580.758060             17.869330          8.801569\n",
       "7        46109.160000            235.680000          6.480000\n",
       "8         7683.443674             58.847487         22.618718\n",
       "9          661.263204              7.305990         47.573621"
      ]
     },
     "execution_count": 5,
     "metadata": {},
     "output_type": "execute_result"
    }
   ],
   "source": [
    "\n",
    "Centroids = pd.DataFrame()\n",
    "Centroids = ScaledCentroids * churn_roll[ClusterCols2D].std() + churn_roll[ClusterCols2D].mean()\n",
    "Centroids"
   ]
  },
  {
   "cell_type": "markdown",
   "metadata": {},
   "source": [
    "2. Our earlier choice of $k=10$ was arbitrary. To find a better number of $k$ create a **scree plot**, which plots the number of clusters $k$ on the x-axis and the sum of squared distances from each point to its cluster centroid on the y-axis. We can get the latter by calling the `inertia_` attribute as shown in the lab. Plot the scree plot for $k$ values from 1 to 15. <span style=\"color:red\" float:right>[4 point]</span>"
   ]
  },
  {
   "cell_type": "code",
   "execution_count": 8,
   "metadata": {},
   "outputs": [
    {
     "data": {
      "image/png": "[encoded data removed]",
      "text/plain": [
       "<Figure size 432x288 with 1 Axes>"
      ]
     },
     "metadata": {
      "needs_background": "light"
     },
     "output_type": "display_data"
    }
   ],
   "source": [
    "\n",
    "\n",
    "# Range of cluster numbers to consider\n",
    "k_values = range(1, 16)\n",
    "\n",
    "# Initialize an empty list to store the inertia values\n",
    "inertia_values = []\n",
    "\n",
    "# Perform K-means clustering for each value of k\n",
    "for k in k_values:\n",
    "    kmeans = KMeans(n_clusters=k)\n",
    "    kmeans.fit(X)\n",
    "    inertia_values.append(kmeans.inertia_)\n",
    "\n",
    "# Plotting the scree plot using inertia values\n",
    "plt.plot(k_values, inertia_values, 'bo-')\n",
    "plt.xlabel('Number of Clusters (k)')\n",
    "plt.ylabel('Inertia')\n",
    "plt.title('Scree Plot')\n",
    "plt.show()\n"
   ]
  },
  {
   "cell_type": "markdown",
   "metadata": {},
   "source": [
    "3. Based on the scree plot, what is a good value to pick for $k$? Provide a brief justification for your choice. <span style=\"color:red\" float:right>[2 point]</span>"
   ]
  },
  {
   "cell_type": "markdown",
   "metadata": {},
   "source": [
    "I picked 5 because its right at the 'elbow' of the graph, or in otherwords its about where you start seeing smaller and smaller differences between the clusters and therefore you'll experience demisnishing returns on information you get from having more clusters. "
   ]
  },
  {
   "cell_type": "markdown",
   "metadata": {},
   "source": [
    "**Add Comment here**   \n"
   ]
  },
  {
   "cell_type": "markdown",
   "metadata": {},
   "source": [
    "4. Train a k-means algorithm on the RFM features using your new value of $k$. Report:\n",
    "- the size (number of items) of each cluster\n",
    "- the mean of each cluster in the original scale\n",
    "- the standard deviation of each cluster in the Z-normalized scale\n",
    "<span style=\"color:red\" float:right>[2 point]</span>"
   ]
  },
  {
   "cell_type": "code",
   "execution_count": 7,
   "metadata": {},
   "outputs": [
    {
     "name": "stdout",
     "output_type": "stream",
     "text": [
      "\n",
      "Number of items in each cluster:\n",
      "0    23196\n",
      "1    10639\n",
      "4     3156\n",
      "3       57\n",
      "2       10\n",
      "Name: cluster, dtype: int64\n",
      "\n",
      "Mean of each cluser on orginial scale\n",
      "   dollar_roll_sum_7D  quantity_roll_sum_7D  last_visit_ndays\n",
      "0          468.203854              6.256506         10.704727\n",
      "1         2616.724665             25.395315        115.273423\n",
      "2         3449.858933             33.978173         10.624495\n",
      "3        19804.400000            972.800000          3.600000\n",
      "4        21705.457143             94.257143         11.942857\n",
      "5          597.465857              7.145565        117.259538\n",
      "6         1580.758060             17.869330          8.801569\n",
      "7        46109.160000            235.680000          6.480000\n",
      "8         7683.443674             58.847487         22.618718\n",
      "9          661.263204              7.305990         47.573621\n",
      "\n",
      "Standard deviation of each cluster in the Z-normalized scale:\n",
      "         dollar_roll_sum_7D  quantity_roll_sum_7D  last_visit_ndays\n",
      "cluster                                                            \n",
      "0                      0.32                  0.33              0.29\n",
      "1                      0.43                  0.40              0.23\n",
      "2                      4.99                 12.89              0.09\n",
      "3                      6.82                  4.87              0.56\n",
      "4                      1.21                  0.91              0.65\n"
     ]
    }
   ],
   "source": [
    "churn_rescaled = churn_roll[['dollar_roll_sum_7D','quantity_roll_sum_7D','last_visit_ndays']] # this section is the normalization code\n",
    "churn_rescaled = churn_rescaled.apply(lambda x: (x - x.mean()) / x.std(), axis = 0)\n",
    "churn_rescaled.head().round(2)\n",
    "\n",
    "n_clusters = 5 # the number of clusters (k)\n",
    "ClusterCols2D = ['dollar_roll_sum_7D','quantity_roll_sum_7D','last_visit_ndays'] # this is assigning the number of clusters and the columns to a name\n",
    "\n",
    "X = churn_rescaled[ClusterCols2D]\n",
    "kmeans = KMeans(n_clusters = n_clusters) # step 1: initialize\n",
    "kmeans.fit(X) # step 2, learn the clusters\n",
    "churn_rescaled['cluster'] = kmeans.predict(X) # step 3, assign a cluster to each row\n",
    "churn_rescaled.head().round(2)\n",
    "\n",
    "\n",
    "print('\\nNumber of items in each cluster:')\n",
    "print(churn_rescaled.cluster.value_counts())\n",
    "print('\\nMean of each cluser on orginial scale')\n",
    "Centroids = pd.DataFrame()\n",
    "Centroids = ScaledCentroids * churn_roll[ClusterCols2D].std() + churn_roll[ClusterCols2D].mean()\n",
    "print(Centroids)\n",
    "\n",
    "\n",
    "print('\\nStandard deviation of each cluster in the Z-normalized scale:')\n",
    "std_deviation = churn_rescaled.groupby('cluster').std()\n",
    "print(std_deviation.round(2))\n"
   ]
  },
  {
   "cell_type": "markdown",
   "metadata": {},
   "source": [
    "5. Pick 3 clusters at random and describe what makes them different from one another (in terms of their RFM features). <span style=\"color:red\" float:right>[3 point]</span>"
   ]
  },
  {
   "cell_type": "markdown",
   "metadata": {},
   "source": [
    "The '0' group is the largest group and it has the smallest average quanitity. The '4' group is the smallest group and with the by far biggest dollar summary. Group '2' is the second smallest group and has the most recent last visit. \n"
   ]
  },
  {
   "cell_type": "markdown",
   "metadata": {},
   "source": [
    "# End of assignment"
   ]
  }
 ],
 "metadata": {
  "kernelspec": {
   "display_name": "Python 3 (ipykernel)",
   "language": "python",
   "name": "python3"
  },
  "language_info": {
   "codemirror_mode": {
    "name": "ipython",
    "version": 3
   },
   "file_extension": ".py",
   "mimetype": "text/x-python",
   "name": "python",
   "nbconvert_exporter": "python",
   "pygments_lexer": "ipython3",
   "version": "3.9.7"
  }
 },
 "nbformat": 4,
 "nbformat_minor": 4
}
