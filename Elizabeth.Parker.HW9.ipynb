{
 "cells": [
  {
   "cell_type": "markdown",
   "metadata": {},
   "source": [
    "# Assignment\n",
    "\n",
    "We saw a few examples of machine learning algorithms, so at this point it seems like once you get the data ready, machine learning is just \"plug and play\", but not so fast! \n",
    "\n",
    "In this assignment, we learn about **regularization**! Regularization is a means by which we can control how much a machine learning algorithm learns. The controlling is done using a parameter that the algorithm, called the **shrinkage parameter**, which is just an argument of the algorithm. The shrinkage parameter is an example of a **hyper-parameter**. A hyper-parameter is like a knob: by specifying a different value for the hyper-parameter, we control how the training happens, a process called **hyper-parameter tuning**. We talk about this is more detail in the next lesson.\n",
    "\n",
    "We will look at two examples of regularizaiton: LASSO and Ridge regression. Both LASSO and Ridge regression are implementations of linear regression where we try to minimize prediction error plus some penalty that depends on the model's parameters (or coefficients) and the shrinkage constant (`alpha` in the code below). LASSO penalizes the model's parameters using the sum of the **absolute values** of the parameters (this is also called **L1-regularization**), while Ridge does so based on the sum of the **squared values** of the parameters (this is also called **L2-regularization**). For reasons we cannot elaborate on here, **LASSO has the by-product that it also does feature selection**, whereas Ridge doesn't. So not all regularization results in feature selection."
   ]
  },
  {
   "cell_type": "code",
   "execution_count": 19,
   "metadata": {},
   "outputs": [],
   "source": [
    "import numpy as np\n",
    "import pandas as pd\n",
    "import seaborn as sns\n",
    "import matplotlib.pyplot as plt\n",
    "%matplotlib inline"
   ]
  },
  {
   "cell_type": "markdown",
   "metadata": {},
   "source": [
    "## Root Mean Squared Error (RMSE)\n",
    "Before we dive into regularization we need to have a metric that tells us if our regression is good or bad.  For regressions we measure success differently than with classifications.  Instead of accuracy, the primary measure is **Root Mean Squared Error** (**RMSE**).  A **RMSE** of zero occurs when the predictions are perfect. **RMSE** increases as the predictions get worse. Let's disect the term **Root Mean Squared Error** by understanding each word from right to left.\n",
    "\n",
    "### Error\n",
    "The **E** in **RMSE** stands for **E**rror ($e_i$).  The error ($e_i$) is the difference between the known test target value ($y_i$) of sample $i$ and the predicted target value ($\\hat{y}_i$) based on the test inputs of sample $i$.\n",
    "$$e_i = y_i - \\hat{y}_i$$\n",
    "where\n",
    "- $e_i$ is the error of the $i$th sample\n",
    "- $y_i$ is the test target value of the $i$th sample\n",
    "- $\\hat{y}_i$ is the predicted target value from the inputs of the $i$th sample\n",
    "\n",
    "### Squared\n",
    "The **S** in **RMSE** stands for squared.  The errors ($e_i$) are squared: $(e_i)^2$.  \n",
    "\n",
    "### Mean\n",
    "The **M** in **RMSE** stands for mean.  We get the mean squared error (**MSE**) by taking the mean of all the squared errors in the sample:\n",
    "$$\\text{MSE} = \\frac{1}{n}\\sum_{i}(e_i)^2$$\n",
    "where\n",
    "- $\\text{MSE}$ is the mean squared error\n",
    "- $n$ is the number of samples\n",
    "\n",
    "### Root\n",
    "The **R** in **RMSE** stands for root.  We get the root mean squared error (**RMSE**) by taking the square root mean of **MSE**\n",
    "$$\\text{RMSE} = \\sqrt{\\text{MSE}}$$\n",
    "\n",
    "Both **MSE** and **RMSE** are used to measure the prediction error.  **RMSE** is often preferred because it is in the units of the target variable ($y$), whereas **MSE** is in units of the target variable squared ($y^2$)."
   ]
  },
  {
   "cell_type": "markdown",
   "metadata": {},
   "source": [
    "0. Compute error metrics.  \n",
    "<br/>\n",
    "To make sure we understand RMSE, lets do one small exercise.\n",
    "\n",
    "We have the following data:\n",
    "- The actual test target values are: `20, 15, 12, 17, 15, 14, 19, 17`\n",
    "- The predicted target values predicted from test inputs are: `19, 12, 12, 19, 17, 17, 17, 18`\n",
    "\n",
    "Determine and show\n",
    "1. the 8 errors\n",
    "2. the 8 squared errors derived from the errors\n",
    "3. the MSE derived from the 8 squared errors\n",
    "4. the RMSE derived from the MSE\n",
    "5. the RMSE derived from the actual test target values and the predicted target values using sklearn.metrics.mean_squared_error with squared=False\n",
    "<br/><span style=\"color:red\" float:right>[1 point]</span>"
   ]
  },
  {
   "cell_type": "code",
   "execution_count": 20,
   "metadata": {},
   "outputs": [
    {
     "name": "stdout",
     "output_type": "stream",
     "text": [
      "Errors: [ 1  3  0 -2 -2 -3  2 -1]\n",
      "Squared Errors: [1 9 0 4 4 9 4 1]\n",
      "MSE: 4.0\n",
      "RMSE: 2.0\n",
      "RMSE (sklearn): 2.0\n"
     ]
    }
   ],
   "source": [
    "import numpy as np\n",
    "from sklearn.metrics import mean_squared_error\n",
    "\n",
    "# Actual test target values\n",
    "actual_values = np.array([20, 15, 12, 17, 15, 14, 19, 17])\n",
    "\n",
    "# Predicted target values\n",
    "predicted_values = np.array([19, 12, 12, 19, 17, 17, 17, 18])\n",
    "\n",
    "# Step 1: Calculate the errors\n",
    "errors = actual_values - predicted_values\n",
    "\n",
    "# Step 2: Calculate the squared errors\n",
    "squared_errors = errors ** 2\n",
    "\n",
    "# Step 3: Calculate the MSE (Mean Squared Error)\n",
    "mse = np.mean(squared_errors)\n",
    "\n",
    "# Step 4: Calculate the RMSE (Root Mean Squared Error)\n",
    "rmse = np.sqrt(mse)\n",
    "\n",
    "# Step 5: Calculate the RMSE using sklearn.metrics.mean_squared_error with squared=False\n",
    "rmse_sklearn = mean_squared_error(actual_values, predicted_values, squared=False)\n",
    "\n",
    "# Print the results\n",
    "print(\"Errors:\", errors)\n",
    "print(\"Squared Errors:\", squared_errors)\n",
    "print(\"MSE:\", mse)\n",
    "print(\"RMSE:\", rmse)\n",
    "print(\"RMSE (sklearn):\", rmse_sklearn)\n",
    "\n"
   ]
  },
  {
   "cell_type": "markdown",
   "metadata": {
    "tags": []
   },
   "source": [
    "## Regularization\n",
    "Let's get back to the main portion of this assignment.  As always we will need data before we can do our work.  Here we will use the California Housing Data.  We will create regressions that predict the median house value in Californian communities.  You can find a description here:  https://www.kaggle.com/datasets/camnugent/california-housing-prices"
   ]
  },
  {
   "cell_type": "code",
   "execution_count": 21,
   "metadata": {},
   "outputs": [],
   "source": [
    "# Get California Housing Data\n",
    "from sklearn.datasets import fetch_california_housing\n",
    "HousingCal = fetch_california_housing()\n",
    "# 20640 rows × 9 columns\n",
    "# MedInc, HouseAge, AveRooms, AveBedrms, Population, AveOccup, Latitude, Longitude, MedHouseVal,\n",
    "df_housing = pd.DataFrame(data=HousingCal['data'], columns=HousingCal['feature_names'])\n",
    "df_housing[HousingCal['target_names'][0]] = HousingCal['target']"
   ]
  },
  {
   "cell_type": "markdown",
   "metadata": {},
   "source": [
    "Present the size of the data frame and the first few rows and a histogram for `MedHouseVal`. <br/><span style=\"color:red\" float:right>[0 point]</span>"
   ]
  },
  {
   "cell_type": "code",
   "execution_count": 22,
   "metadata": {},
   "outputs": [
    {
     "name": "stdout",
     "output_type": "stream",
     "text": [
      "data frame size (20640, 9)\n"
     ]
    },
    {
     "data": {
      "text/plain": [
       "'first few rows of data frame'"
      ]
     },
     "metadata": {},
     "output_type": "display_data"
    },
    {
     "data": {
      "text/html": [
       "<div>\n",
       "<style scoped>\n",
       "    .dataframe tbody tr th:only-of-type {\n",
       "        vertical-align: middle;\n",
       "    }\n",
       "\n",
       "    .dataframe tbody tr th {\n",
       "        vertical-align: top;\n",
       "    }\n",
       "\n",
       "    .dataframe thead th {\n",
       "        text-align: right;\n",
       "    }\n",
       "</style>\n",
       "<table border=\"1\" class=\"dataframe\">\n",
       "  <thead>\n",
       "    <tr style=\"text-align: right;\">\n",
       "      <th></th>\n",
       "      <th>MedInc</th>\n",
       "      <th>HouseAge</th>\n",
       "      <th>AveRooms</th>\n",
       "      <th>AveBedrms</th>\n",
       "      <th>Population</th>\n",
       "      <th>AveOccup</th>\n",
       "      <th>Latitude</th>\n",
       "      <th>Longitude</th>\n",
       "      <th>MedHouseVal</th>\n",
       "    </tr>\n",
       "  </thead>\n",
       "  <tbody>\n",
       "    <tr>\n",
       "      <th>0</th>\n",
       "      <td>8.3252</td>\n",
       "      <td>41.0</td>\n",
       "      <td>6.984127</td>\n",
       "      <td>1.023810</td>\n",
       "      <td>322.0</td>\n",
       "      <td>2.555556</td>\n",
       "      <td>37.88</td>\n",
       "      <td>-122.23</td>\n",
       "      <td>4.526</td>\n",
       "    </tr>\n",
       "    <tr>\n",
       "      <th>1</th>\n",
       "      <td>8.3014</td>\n",
       "      <td>21.0</td>\n",
       "      <td>6.238137</td>\n",
       "      <td>0.971880</td>\n",
       "      <td>2401.0</td>\n",
       "      <td>2.109842</td>\n",
       "      <td>37.86</td>\n",
       "      <td>-122.22</td>\n",
       "      <td>3.585</td>\n",
       "    </tr>\n",
       "    <tr>\n",
       "      <th>2</th>\n",
       "      <td>7.2574</td>\n",
       "      <td>52.0</td>\n",
       "      <td>8.288136</td>\n",
       "      <td>1.073446</td>\n",
       "      <td>496.0</td>\n",
       "      <td>2.802260</td>\n",
       "      <td>37.85</td>\n",
       "      <td>-122.24</td>\n",
       "      <td>3.521</td>\n",
       "    </tr>\n",
       "    <tr>\n",
       "      <th>3</th>\n",
       "      <td>5.6431</td>\n",
       "      <td>52.0</td>\n",
       "      <td>5.817352</td>\n",
       "      <td>1.073059</td>\n",
       "      <td>558.0</td>\n",
       "      <td>2.547945</td>\n",
       "      <td>37.85</td>\n",
       "      <td>-122.25</td>\n",
       "      <td>3.413</td>\n",
       "    </tr>\n",
       "    <tr>\n",
       "      <th>4</th>\n",
       "      <td>3.8462</td>\n",
       "      <td>52.0</td>\n",
       "      <td>6.281853</td>\n",
       "      <td>1.081081</td>\n",
       "      <td>565.0</td>\n",
       "      <td>2.181467</td>\n",
       "      <td>37.85</td>\n",
       "      <td>-122.25</td>\n",
       "      <td>3.422</td>\n",
       "    </tr>\n",
       "  </tbody>\n",
       "</table>\n",
       "</div>"
      ],
      "text/plain": [
       "   MedInc  HouseAge  AveRooms  AveBedrms  Population  AveOccup  Latitude  \\\n",
       "0  8.3252      41.0  6.984127   1.023810       322.0  2.555556     37.88   \n",
       "1  8.3014      21.0  6.238137   0.971880      2401.0  2.109842     37.86   \n",
       "2  7.2574      52.0  8.288136   1.073446       496.0  2.802260     37.85   \n",
       "3  5.6431      52.0  5.817352   1.073059       558.0  2.547945     37.85   \n",
       "4  3.8462      52.0  6.281853   1.081081       565.0  2.181467     37.85   \n",
       "\n",
       "   Longitude  MedHouseVal  \n",
       "0    -122.23        4.526  \n",
       "1    -122.22        3.585  \n",
       "2    -122.24        3.521  \n",
       "3    -122.25        3.413  \n",
       "4    -122.25        3.422  "
      ]
     },
     "metadata": {},
     "output_type": "display_data"
    },
    {
     "data": {
      "image/png": "[encoded data removed]",
      "text/plain": [
       "<Figure size 432x288 with 1 Axes>"
      ]
     },
     "metadata": {
      "needs_background": "light"
     },
     "output_type": "display_data"
    }
   ],
   "source": [
    "print(\"data frame size\", df_housing.shape)\n",
    "display(\"first few rows of data frame\", df_housing.head())\n",
    "\n",
    "# Plotting a histogram\n",
    "plt.hist(df_housing['MedHouseVal'], bins=10) \n",
    "\n",
    "# Adding labels and title\n",
    "plt.xlabel('Median House Value')\n",
    "plt.ylabel('Frequency')\n",
    "\n",
    "\n",
    "# Display the histogram\n",
    "plt.show()\n"
   ]
  },
  {
   "cell_type": "markdown",
   "metadata": {},
   "source": [
    "It is better to create a model that is limited in its scope, than to include data that are difficult to interpret.  In this case, the prices for houses greater or equal to 5, are mostly incorrect.  "
   ]
  },
  {
   "cell_type": "markdown",
   "metadata": {},
   "source": [
    "1. Prepare the data\n",
    "\n",
    "Prepare the data by doing the following:\n",
    "1. remove the houses where `MedHouseVal` is greater or equal to 5 and present another histogram of `MedHouseVal`\n",
    "2. remove `Latitude` and `Longitude` because we haven't learned yet how to make these useful\n",
    "3. split the data into features and target\n",
    "4. split the features and target into training and test sets\n",
    "5. normalize the training and test features based on the training data\n",
    "<br/><span style=\"color:red\" float:right>[1 point]</span>"
   ]
  },
  {
   "cell_type": "code",
   "execution_count": 23,
   "metadata": {},
   "outputs": [
    {
     "data": {
      "image/png": "[encoded data removed]",
      "text/plain": [
       "<Figure size 432x288 with 1 Axes>"
      ]
     },
     "metadata": {
      "needs_background": "light"
     },
     "output_type": "display_data"
    }
   ],
   "source": [
    "df_housing.MedHouseVal.describe()\n",
    "# remove the houses where `MedHouseVal` is greater or equal to 5\n",
    "\n",
    "df_filtered = df_housing[df_housing['MedHouseVal'] < 5].copy()\n",
    "# Present histogram of MedHouseVal\n",
    "\n",
    "plt.hist(df_filtered['MedHouseVal'], bins=10)  \n",
    "\n",
    "# Adding labels and title\n",
    "plt.xlabel('Median House Value')\n",
    "plt.ylabel('Frequency')\n",
    "\n",
    "\n",
    "# Display the histogram\n",
    "plt.show()\n"
   ]
  },
  {
   "cell_type": "code",
   "execution_count": 24,
   "metadata": {},
   "outputs": [],
   "source": [
    "\n",
    "# remove `Latitude` and `Longitude`\n",
    "# Drop \"Latitude\" and \"Longitude\" columns from the filtered DataFrame\n",
    "df_filtered.drop(['Latitude', 'Longitude'], axis=1, inplace=True)\n"
   ]
  },
  {
   "cell_type": "code",
   "execution_count": 25,
   "metadata": {},
   "outputs": [],
   "source": [
    "\n",
    "# split the data into features and target\n",
    "\n",
    "X = df_filtered.drop('MedHouseVal', axis=1)\n",
    "y = df_filtered['MedHouseVal']\n",
    "\n",
    "# split the features and target into training and test sets\n",
    "\n",
    "from sklearn.model_selection import train_test_split\n",
    "\n",
    "\n",
    "X_train, X_test, y_train, y_test = train_test_split(X, y, test_size=0.2, random_state=42)\n",
    "\n"
   ]
  },
  {
   "cell_type": "code",
   "execution_count": 26,
   "metadata": {},
   "outputs": [
    {
     "name": "stdout",
     "output_type": "stream",
     "text": [
      "       MedInc  HouseAge  AveRooms  AveBedrms  Population  AveOccup\n",
      "0        2.37      0.68      1.16      -0.27       -0.90     -0.33\n",
      "1        2.36     -0.37      0.68      -0.82        1.29     -0.85\n",
      "2        1.85      1.26      2.00       0.27       -0.72     -0.04\n",
      "3        1.07      1.26      0.41       0.26       -0.65     -0.34\n",
      "4        0.19      1.26      0.71       0.35       -0.65     -0.76\n",
      "...       ...       ...       ...        ...         ...       ...\n",
      "20635   -0.92     -0.16     -0.09       0.91       -0.35     -0.32\n",
      "20636   -0.43     -0.53      0.60       2.86       -0.87      0.33\n",
      "20637   -0.85     -0.58      0.01       0.77       -0.18     -0.60\n",
      "20638   -0.77     -0.53      0.09       1.32       -0.46     -0.83\n",
      "20639   -0.52     -0.63      0.04       1.22        0.22     -0.26\n",
      "\n",
      "[19648 rows x 6 columns]\n"
     ]
    }
   ],
   "source": [
    "\n",
    "#  Normalize using robust normalization\n",
    "\n",
    "# Calculate the offset and scale for each feature\n",
    "offset = np.median(X, axis=0)\n",
    "scale = np.percentile(X, 75, axis=0) - np.percentile(X, 25, axis=0)\n",
    "\n",
    "# Perform robust normalization on the features\n",
    "X_robust = (X - offset) / scale\n",
    "\n",
    "# Create a new DataFrame with the Robust-normalized features\n",
    "X_robust_df = pd.DataFrame(X_robust, columns=X.columns)\n",
    "\n",
    "# Print the Robust-normalized DataFrame rounded to 2 decimal places\n",
    "print(X_robust_df.round(decimals=2))\n"
   ]
  },
  {
   "cell_type": "markdown",
   "metadata": {},
   "source": [
    "2. Train and Predict\n",
    "- Train a linear regression algorithm, using `LinearRegression` from `sklearn.linear_model`, to predict `MedHouseVal` on the prepared data.\n",
    "- predict benchmark values for both training and test data sets.\n",
    "<br/><span style=\"color:red\" float:right>[1 point]</span>"
   ]
  },
  {
   "cell_type": "code",
   "execution_count": 27,
   "metadata": {},
   "outputs": [],
   "source": [
    "# Add code here\n",
    "from sklearn.linear_model import LinearRegression\n",
    "\n",
    "linreg = LinearRegression()\n",
    "linreg.fit(X_train, y_train)\n",
    "\n",
    "y_hat_train_benchmark = linreg.predict(X_train)\n",
    "y_hat_test_benchmark = linreg.predict(X_test)"
   ]
  },
  {
   "cell_type": "markdown",
   "metadata": {},
   "source": [
    "3. Evaluate the model\n",
    "<br/>Calculate and report the performance (RMSE) on both training and test data. These numbers will serve as our benchmark performance. As a sanity check, create a scatter plot of the bench mark predictions against the actual values for the each of the two (train, test) data sets.\n",
    "<br/><span style=\"color:red\" float:right>[2 point]</span>"
   ]
  },
  {
   "cell_type": "code",
   "execution_count": 28,
   "metadata": {},
   "outputs": [
    {
     "name": "stdout",
     "output_type": "stream",
     "text": [
      "RMSE on training data: 0.6845345464489843\n",
      "RMSE on test data: 0.6958150975822394\n"
     ]
    }
   ],
   "source": [
    "\n",
    "# Calculate RMSE on the training data\n",
    "rmse_train = np.sqrt(mean_squared_error(y_train, y_hat_train_benchmark))\n",
    "print(\"RMSE on training data:\", rmse_train)\n",
    "\n",
    "# Calculate RMSE on the test data\n",
    "rmse_test = np.sqrt(mean_squared_error(y_test, y_hat_test_benchmark))\n",
    "print(\"RMSE on test data:\", rmse_test)\n"
   ]
  },
  {
   "cell_type": "code",
   "execution_count": 29,
   "metadata": {},
   "outputs": [
    {
     "data": {
      "image/png": "[encoded data removed]",
      "text/plain": [
       "<Figure size 432x288 with 1 Axes>"
      ]
     },
     "metadata": {
      "needs_background": "light"
     },
     "output_type": "display_data"
    },
    {
     "data": {
      "image/png": "[encoded data removed]",
      "text/plain": [
       "<Figure size 432x288 with 1 Axes>"
      ]
     },
     "metadata": {
      "needs_background": "light"
     },
     "output_type": "display_data"
    }
   ],
   "source": [
    "\n",
    "\n",
    "# Create scatter plot for the training data\n",
    "plt.scatter(y_train, y_hat_train_benchmark)\n",
    "plt.xlabel('Actual Values')\n",
    "plt.ylabel('Predicted Values')\n",
    "plt.title('Benchmark Predictions vs. Actual Values (Training Data)')\n",
    "plt.show()\n",
    "\n",
    "# Create scatter plot for the test data\n",
    "plt.scatter(y_test, y_hat_test_benchmark)\n",
    "plt.xlabel('Actual Values')\n",
    "plt.ylabel('Predicted Values')\n",
    "plt.title('Benchmark Predictions vs. Actual Values (Test Data)')\n",
    "plt.show()\n",
    "\n"
   ]
  },
  {
   "cell_type": "markdown",
   "metadata": {},
   "source": [
    "We now train a regularized version of `LinearRegression` called `Lasso` (you can load it from the sklearn.linear_model.Lasso). `Lasso` has an argument called `alpha`, which is the **shrinkage parameter** we referred to earlier.\n",
    "\n",
    "4. Let `alpha = 0.000001` and train a `Lasso` model. Show that the resulting model is practically identical to the one we trained with `LinearRegression`. There are different ways to show this, so you will need to think of a way. <span style=\"color:red\" float:right>[2 point]</span>"
   ]
  },
  {
   "cell_type": "code",
   "execution_count": 30,
   "metadata": {
    "scrolled": true
   },
   "outputs": [
    {
     "name": "stdout",
     "output_type": "stream",
     "text": [
      "[ 5.46755294e-01  1.48248247e-02 -2.21782395e-01  9.84759293e-01\n",
      "  2.53207060e-05 -4.19725418e-03]\n",
      "[ 5.46760289e-01  1.48247941e-02 -2.21790521e-01  9.84799491e-01\n",
      "  2.53202989e-05 -4.19727639e-03]\n",
      "The Lasso model and Linear Regression model have practically identical coefficients.\n"
     ]
    }
   ],
   "source": [
    "from sklearn.linear_model import Lasso\n",
    "\n",
    "# Create a Lasso model with alpha = 0.000001\n",
    "lasso = Lasso(alpha=0.000001)\n",
    "lasso.fit(X_train, y_train)\n",
    "\n",
    "# Get the coefficient values of the Lasso model\n",
    "lasso_coefs = lasso.coef_\n",
    "print(lasso_coefs)\n",
    "# Get the coefficient values of the Linear Regression model\n",
    "linear_coefs = linreg.coef_\n",
    "print(linear_coefs)\n",
    "# Compare the coefficient values of both models\n",
    "coef_comparison = np.isclose(lasso_coefs, linear_coefs,atol=1e-1) # import to assign atol otherwise it will say that the coeffiecients are different.\n",
    "\n",
    "# Check if all coefficients are practically identical\n",
    "if coef_comparison.all():\n",
    "    print(\"The Lasso model and Linear Regression model have practically identical coefficients.\")\n",
    "else:\n",
    "    print(\"The Lasso model and Linear Regression model have different coefficients.\")\n"
   ]
  },
  {
   "cell_type": "markdown",
   "metadata": {},
   "source": [
    "#### Comment on the comparison\n",
    "Add Comment here"
   ]
  },
  {
   "cell_type": "markdown",
   "metadata": {},
   "source": [
    "When you print out the coefficients you can see that they are very similar. I used the .iscloseto compare the coefficients. "
   ]
  },
  {
   "cell_type": "markdown",
   "metadata": {},
   "source": [
    "5. Get regression coefficients and performance metrics for varying alpha.  The performance metrics are  RMSE for training and test data.  \n",
    "<span style=\"color:red\" float:right>[5 point]</span>"
   ]
  },
  {
   "cell_type": "code",
   "execution_count": 31,
   "metadata": {},
   "outputs": [],
   "source": [
    "# The alpha column contains the values we want to iterate over\n",
    "# The other columns are for storing the coefficients of the lasso regressions\n",
    "Coefficients = pd.DataFrame(data=np.arange(0.01, 1, .01), columns=['alpha'])\n",
    "Coefficients[list(X.columns) + ['RMSE_train', 'RMSE_test']] = 0"
   ]
  },
  {
   "cell_type": "markdown",
   "metadata": {},
   "source": [
    "To make it easier, we have laid out a suggestion for the code. You can use our layout or you can design your own code.\n",
    "For each iteration in the suggested design:    \n",
    "- Train a new `Lasso` model, letting `alpha` change each time to one of the values given by `alpha_vals` below.  \n",
    "- For each value of `alpha` in `Coefficients`, retrieve the coefficients from the `coef_` attribute of the trained model. \n",
    "- Store the coefficients in `Coefficients`\n",
    "- Predict the training labels, e.g. `y_hat_train`\n",
    "- Determine the rmse of the training data, e.g. `rmse_train`\n",
    "- Store the rmse of the training data in `Coefficients`\n",
    "- Predict the test labels, e.g. `y_hat_test`\n",
    "- Determine the rmse of the test data, e.g. `rmse_test`\n",
    "- Store the rmse of the test data in `Coefficients`"
   ]
  },
  {
   "cell_type": "code",
   "execution_count": 32,
   "metadata": {},
   "outputs": [
    {
     "name": "stdout",
     "output_type": "stream",
     "text": [
      "    alpha    MedInc  HouseAge  AveRooms  AveBedrms  Population  AveOccup  \\\n",
      "0    0.01  0.496947  0.015128 -0.140749   0.583806    0.000029 -0.003976   \n",
      "1    0.02  0.447201  0.015430 -0.059817   0.183294    0.000033 -0.003754   \n",
      "2    0.03  0.421419  0.015516 -0.021241   0.000000    0.000035 -0.003601   \n",
      "3    0.04  0.415839  0.015417 -0.018393   0.000000    0.000036 -0.003506   \n",
      "4    0.05  0.410259  0.015319 -0.015545   0.000000    0.000036 -0.003411   \n",
      "..    ...       ...       ...       ...        ...         ...       ...   \n",
      "94   0.95  0.015019  0.000000  0.000000  -0.000000    0.000009 -0.000000   \n",
      "95   0.96  0.010969  0.000000  0.000000  -0.000000    0.000009 -0.000000   \n",
      "96   0.97  0.006919  0.000000  0.000000  -0.000000    0.000009 -0.000000   \n",
      "97   0.98  0.002868  0.000000  0.000000  -0.000000    0.000009 -0.000000   \n",
      "98   0.99  0.000000  0.000000  0.000000  -0.000000    0.000009 -0.000000   \n",
      "\n",
      "    RMSE_train  RMSE_test  \n",
      "0     0.688412   0.699938  \n",
      "1     0.699895   0.711982  \n",
      "2     0.707775   0.720421  \n",
      "3     0.708202   0.721204  \n",
      "4     0.708749   0.722082  \n",
      "..         ...        ...  \n",
      "94    0.953855   0.964148  \n",
      "95    0.957902   0.968121  \n",
      "96    0.961973   0.972118  \n",
      "97    0.966069   0.976140  \n",
      "98    0.968985   0.979003  \n",
      "\n",
      "[99 rows x 9 columns]\n"
     ]
    }
   ],
   "source": [
    "\n",
    "# Iterate over each alpha value\n",
    "for i, alpha in enumerate(Coefficients['alpha']):\n",
    "    # Train a new Lasso model\n",
    "    lasso = Lasso(alpha=alpha)\n",
    "    lasso.fit(X_train, y_train)\n",
    "    \n",
    "    # Store the coefficients in Coefficients DataFrame\n",
    "    Coefficients.loc[i, list(X.columns)] = lasso.coef_\n",
    "    \n",
    "    # Predict the training labels\n",
    "    y_train_pred = lasso.predict(X_train)\n",
    "    \n",
    "    # Calculate RMSE of the training data\n",
    "    rmse_train = np.sqrt(mean_squared_error(y_train, y_train_pred))\n",
    "    \n",
    "    # Store the RMSE of the training data in Coefficients DataFrame\n",
    "    Coefficients.loc[i, 'RMSE_train'] = rmse_train\n",
    "    \n",
    "    # Predict the test labels\n",
    "    y_test_pred = lasso.predict(X_test)\n",
    "    \n",
    "    # Calculate RMSE of the test data\n",
    "    rmse_test = np.sqrt(mean_squared_error(y_test, y_test_pred))\n",
    "    \n",
    "    # Store the RMSE of the test data in Coefficients DataFrame\n",
    "    Coefficients.loc[i, 'RMSE_test'] = rmse_test\n",
    "\n",
    "# Print the Coefficients DataFrame with coefficients and performance metrics\n",
    "print(Coefficients)\n"
   ]
  },
  {
   "cell_type": "markdown",
   "metadata": {},
   "source": [
    "6. Lasso changes with alpha\n",
    "<br/>\n",
    "(a) Using a visual, show how the performance on the training and test data changed as we gradually increased the shrinkage parameter `alpha`. At which point is there a substantial decrease in performance (increase in RMSE) on the test data?  You might want to use a log scale (`plt.xscale('log')`) for `alpha`.\n",
    "<br/>\n",
    "(b) Using a visual, show how the model's coefficients changed as we gradually increased the shrinkage parameter `alpha`. HINT: They should appear to be shrinking toward zero as you increase `alpha`. \n",
    "<br/><span style=\"color:red\" float:right>[4 point]</span>"
   ]
  },
  {
   "cell_type": "code",
   "execution_count": 33,
   "metadata": {},
   "outputs": [
    {
     "data": {
      "image/png": "[encoded data removed]",
      "text/plain": [
       "<Figure size 432x288 with 1 Axes>"
      ]
     },
     "metadata": {
      "needs_background": "light"
     },
     "output_type": "display_data"
    }
   ],
   "source": [
    "# Add code here\n",
    "# RMSE vs. alpha\n",
    "import matplotlib.pyplot as plt\n",
    "\n",
    "# Part (a): Performance (RMSE) vs. alpha\n",
    "\n",
    "# Set up figure and axes\n",
    "fig, ax = plt.subplots()\n",
    "\n",
    "# Plot RMSE on training data\n",
    "ax.plot(Coefficients['alpha'], Coefficients['RMSE_train'], label='Training RMSE')\n",
    "\n",
    "# Plot RMSE on test data\n",
    "ax.plot(Coefficients['alpha'], Coefficients['RMSE_test'], label='Test RMSE')\n",
    "\n",
    "# Set plot labels and title\n",
    "ax.set_xlabel('Alpha')\n",
    "ax.set_ylabel('RMSE')\n",
    "ax.set_title('Performance (RMSE) vs. Alpha')\n",
    "\n",
    "# Set x-axis scale to log\n",
    "ax.set_xscale('log')\n",
    "\n",
    "# Show legend\n",
    "ax.legend()\n",
    "\n",
    "# Show the plot\n",
    "plt.show()\n",
    "\n"
   ]
  },
  {
   "cell_type": "code",
   "execution_count": 34,
   "metadata": {
    "scrolled": true
   },
   "outputs": [
    {
     "data": {
      "image/png": "[encoded data removed]",
      "text/plain": [
       "<Figure size 432x288 with 1 Axes>"
      ]
     },
     "metadata": {
      "needs_background": "light"
     },
     "output_type": "display_data"
    }
   ],
   "source": [
    "# Add code here\n",
    "# Coefficient vs. alpha\n",
    "# Part (b): Coefficients vs. alpha\n",
    "\n",
    "# Set up figure and axes\n",
    "fig, ax = plt.subplots()\n",
    "\n",
    "# Plot coefficients\n",
    "for feature in X.columns:\n",
    "    ax.plot(Coefficients['alpha'], Coefficients[feature], label=feature)\n",
    "\n",
    "# Set plot labels and title\n",
    "ax.set_xlabel('Alpha')\n",
    "ax.set_ylabel('Coefficient')\n",
    "ax.set_title('Coefficients vs. Alpha')\n",
    "\n",
    "# Set x-axis scale to log\n",
    "ax.set_xscale('log')\n",
    "\n",
    "# Show legend\n",
    "ax.legend()\n",
    "\n",
    "# Show the plot\n",
    "plt.show()\n"
   ]
  },
  {
   "cell_type": "markdown",
   "metadata": {},
   "source": [
    "7. Compare `Ridge` and `Lasso` baseline models.  Show that `Ridge` and `Lasso` return the same trained model when `alpha = 0.00001` (i.e. close to zero). <br/><span style=\"color:red\" float:right>[1 point]</span>"
   ]
  },
  {
   "cell_type": "code",
   "execution_count": 35,
   "metadata": {},
   "outputs": [
    {
     "name": "stdout",
     "output_type": "stream",
     "text": [
      "Ridge and Lasso return the same trained model when alpha is close to zero.\n",
      "Ridge RMSE: 0.6958150975810451\n",
      "Lasso RMSE: 0.6958151855444665\n"
     ]
    }
   ],
   "source": [
    "from sklearn.linear_model import Ridge\n",
    "from sklearn.metrics import mean_squared_error\n",
    "\n",
    "\n",
    "# Train a Ridge model with alpha = 0.00001\n",
    "ridge = Ridge(alpha=0.00001)\n",
    "ridge.fit(X_train, y_train)\n",
    "y_pred_ridge = ridge.predict(X_test)\n",
    "ridge_rmse = np.sqrt(mean_squared_error(y_test, y_pred_ridge))\n",
    "\n",
    "# Train a Lasso model with alpha = 0.00001\n",
    "lasso = Lasso(alpha=0.00001)\n",
    "lasso.fit(X_train, y_train)\n",
    "y_pred_lasso = lasso.predict(X_test)\n",
    "lasso_rmse = np.sqrt(mean_squared_error(y_test, y_pred_lasso))\n",
    "\n",
    "# Check if the Ridge and Lasso models return the same trained model\n",
    "if np.allclose(ridge.coef_, lasso.coef_, atol=1e-1):\n",
    "    print(\"Ridge and Lasso return the same trained model when alpha is close to zero.\")\n",
    "else:\n",
    "    print(\"Ridge and Lasso do not return the same trained model.\")\n",
    "\n",
    "# Compare RMSE values\n",
    "print(\"Ridge RMSE:\", ridge_rmse)\n",
    "print(\"Lasso RMSE:\", lasso_rmse)\n"
   ]
  },
  {
   "cell_type": "markdown",
   "metadata": {},
   "source": [
    "8. Get regression coefficients and performance metrics for varying `alpha` on a ridge regression.  The performance metrics are  RMSE for training and test data.  In other words, repeat the above using `Ridge` instead of `Lasso`.   For `ridge`, we will use the following range for `alpha`: `np.power(2., np.arange(1., 25., 1.))`\n",
    "\n",
    "> Note: Ridge has a  different behaviour than Lasso. Coefficients will very gradually approach zero and not have a steep drop off. You probably will not notice any zero coefficients.\n",
    "\n",
    "<br/><span style=\"color:red\" float:right>[1 point]</span>"
   ]
  },
  {
   "cell_type": "code",
   "execution_count": 36,
   "metadata": {},
   "outputs": [
    {
     "name": "stdout",
     "output_type": "stream",
     "text": [
      "         alpha    MedInc  HouseAge  AveRooms  AveBedrms  Population  AveOccup  \\\n",
      "0          2.0  0.546259  0.014829 -0.220953   0.980564    0.000025 -0.004196   \n",
      "1          4.0  0.545761  0.014832 -0.220122   0.976364    0.000025 -0.004194   \n",
      "2          8.0  0.544777  0.014840 -0.218481   0.968065    0.000025 -0.004191   \n",
      "3         16.0  0.542855  0.014854 -0.215276   0.951863    0.000026 -0.004186   \n",
      "4         32.0  0.539177  0.014882 -0.209161   0.920958    0.000026 -0.004175   \n",
      "5         64.0  0.532429  0.014932 -0.197989   0.864536    0.000027 -0.004155   \n",
      "6        128.0  0.520917  0.015014 -0.179110   0.769321    0.000027 -0.004121   \n",
      "7        256.0  0.503440  0.015128 -0.151035   0.628149    0.000029 -0.004068   \n",
      "8        512.0  0.480741  0.015247 -0.116252   0.454492    0.000031 -0.003998   \n",
      "9       1024.0  0.455377  0.015309 -0.081498   0.284138    0.000032 -0.003915   \n",
      "10      2048.0  0.428504  0.015232 -0.052894   0.150870    0.000034 -0.003820   \n",
      "11      4096.0  0.397006  0.014925 -0.031687   0.064997    0.000035 -0.003695   \n",
      "12      8192.0  0.354475  0.014283 -0.015474   0.018294    0.000037 -0.003514   \n",
      "13     16384.0  0.295865  0.013214 -0.001865  -0.002146    0.000038 -0.003252   \n",
      "14     32768.0  0.224054  0.011725  0.008930  -0.007457    0.000038 -0.002918   \n",
      "15     65536.0  0.151713  0.009992  0.014596  -0.006137    0.000037 -0.002559   \n",
      "16    131072.0  0.092633  0.008288  0.014347  -0.003551    0.000035 -0.002224   \n",
      "17    262144.0  0.052230  0.006797  0.010655  -0.001750    0.000032 -0.001924   \n",
      "18    524288.0  0.027915  0.005513  0.006617  -0.000821    0.000028 -0.001628   \n",
      "19   1048576.0  0.014441  0.004315  0.003683  -0.000390    0.000024 -0.001300   \n",
      "20   2097152.0  0.007334  0.003137  0.001925  -0.000190    0.000021 -0.000946   \n",
      "21   4194304.0  0.003690  0.002066  0.000975  -0.000095    0.000017 -0.000617   \n",
      "22   8388608.0  0.001849  0.001236  0.000487  -0.000048    0.000014 -0.000364   \n",
      "23  16777216.0  0.000925  0.000686  0.000243  -0.000024    0.000012 -0.000200   \n",
      "\n",
      "    RMSE_train  RMSE_test  \n",
      "0     0.684535   0.695815  \n",
      "1     0.684536   0.695816  \n",
      "2     0.684541   0.695821  \n",
      "3     0.684560   0.695840  \n",
      "4     0.684632   0.695912  \n",
      "5     0.684880   0.696165  \n",
      "6     0.685645   0.696949  \n",
      "7     0.687579   0.698942  \n",
      "8     0.691283   0.702784  \n",
      "9     0.696429   0.708189  \n",
      "10    0.701959   0.714136  \n",
      "11    0.707976   0.720748  \n",
      "12    0.717632   0.731091  \n",
      "13    0.737705   0.751571  \n",
      "14    0.774393   0.787928  \n",
      "15    0.823990   0.836562  \n",
      "16    0.873129   0.884680  \n",
      "17    0.911180   0.921973  \n",
      "18    0.936023   0.946345  \n",
      "19    0.950615   0.960698  \n",
      "20    0.958786   0.968783  \n",
      "21    0.963356   0.973339  \n",
      "22    0.965938   0.975929  \n",
      "23    0.967378   0.977377  \n"
     ]
    }
   ],
   "source": [
    "# Add code here\n",
    "from sklearn.linear_model import Ridge\n",
    "from sklearn.metrics import mean_squared_error\n",
    "\n",
    "# Define the range of alpha values\n",
    "alpha_vals = np.power(2., np.arange(1., 25., 1.))\n",
    "\n",
    "# Create a DataFrame to store coefficients and performance metrics\n",
    "Coefficients_ridge = pd.DataFrame(data=alpha_vals, columns=['alpha'])\n",
    "Coefficients_ridge[list(X.columns) + ['RMSE_train', 'RMSE_test']] = np.nan\n",
    "\n",
    "# Loop over the alpha values\n",
    "for i, alpha in enumerate(Coefficients_ridge['alpha']):\n",
    "    # Instantiate a Ridge regression with alpha\n",
    "    ridge = Ridge(alpha=alpha)\n",
    "\n",
    "    # Fit the Ridge regression\n",
    "    ridge.fit(X_train, y_train)\n",
    "\n",
    "    # Add the coefficients to the DataFrame row\n",
    "    Coefficients_ridge.loc[i, list(X.columns)] = ridge.coef_\n",
    "\n",
    "    # Predict training labels\n",
    "    y_hat_train = ridge.predict(X_train)\n",
    "\n",
    "    # Determine training error metric (RMSE)\n",
    "    rmse_train = np.sqrt(mean_squared_error(y_train, y_hat_train))\n",
    "\n",
    "    # Add the training error metric (RMSE) to the DataFrame row\n",
    "    Coefficients_ridge.loc[i, 'RMSE_train'] = rmse_train\n",
    "\n",
    "    # Predict test labels\n",
    "    y_hat_test = ridge.predict(X_test)\n",
    "\n",
    "    # Determine test error metric (RMSE)\n",
    "    rmse_test = np.sqrt(mean_squared_error(y_test, y_hat_test))\n",
    "\n",
    "    # Add the test error metric (RMSE) to the DataFrame row\n",
    "    Coefficients_ridge.loc[i, 'RMSE_test'] = rmse_test\n",
    "\n",
    "# Print the Coefficients_ridge DataFrame with coefficients and performance metrics\n",
    "print(Coefficients_ridge)\n"
   ]
  },
  {
   "cell_type": "markdown",
   "metadata": {},
   "source": [
    "9. Ridge changes with alpha\n",
    "<br/>\n",
    "(a) Using a visual, show how the performance on the training and test data changed as we gradually increased `alpha` for `Ridge`. In other words, repeat the above using `Ridge` instead of `Lasso`.  \n",
    "<br/>\n",
    "(b) Using a visual, show how the model's coefficients for ridge changed as we gradually increased the shrinkage parameter `alpha`.  \n",
    "<br/><span style=\"color:red\" float:right>[2 point]</span>"
   ]
  },
  {
   "cell_type": "code",
   "execution_count": 37,
   "metadata": {},
   "outputs": [
    {
     "data": {
      "image/png": "[encoded data removed]",
      "text/plain": [
       "<Figure size 720x432 with 1 Axes>"
      ]
     },
     "metadata": {
      "needs_background": "light"
     },
     "output_type": "display_data"
    }
   ],
   "source": [
    "# Add code here\n",
    "# RMSE vs. alpha\n",
    "import matplotlib.pyplot as plt\n",
    "\n",
    "# Plot performance (RMSE) on training and test data\n",
    "plt.figure(figsize=(10, 6))\n",
    "plt.plot(Coefficients_ridge['alpha'], Coefficients_ridge['RMSE_train'], label='Training RMSE')\n",
    "plt.plot(Coefficients_ridge['alpha'], Coefficients_ridge['RMSE_test'], label='Test RMSE')\n",
    "plt.xlabel('Alpha')\n",
    "plt.ylabel('RMSE')\n",
    "plt.title('Ridge Regression Performance')\n",
    "plt.xscale('log')\n",
    "plt.legend()\n",
    "plt.show()\n"
   ]
  },
  {
   "cell_type": "code",
   "execution_count": 38,
   "metadata": {},
   "outputs": [
    {
     "data": {
      "image/png": "[encoded data removed]",
      "text/plain": [
       "<Figure size 720x432 with 1 Axes>"
      ]
     },
     "metadata": {
      "needs_background": "light"
     },
     "output_type": "display_data"
    }
   ],
   "source": [
    "# Add code here\n",
    "# Coefficient vs. alpha\n",
    "\n",
    "# Plot model coefficients for Ridge regression\n",
    "plt.figure(figsize=(10, 6))\n",
    "for feature in X.columns:\n",
    "    plt.plot(Coefficients_ridge['alpha'], Coefficients_ridge[feature], label=feature)\n",
    "plt.xlabel('Alpha')\n",
    "plt.ylabel('Coefficient Value')\n",
    "plt.title('Ridge Regression Coefficients')\n",
    "plt.xscale('log')\n",
    "plt.legend()\n",
    "plt.show()\n",
    "\n"
   ]
  },
  {
   "cell_type": "markdown",
   "metadata": {},
   "source": [
    "10. Based on the results, briefly describe the effect of changing `alpha` on the coefficients of both `Ridge` and `Lasso`. What value of `alpha` would you choose for each case? You do not need to give a precise answer, but choose a number. <br/><span style=\"color:red\" float:right>[2 point]</span>"
   ]
  },
  {
   "cell_type": "markdown",
   "metadata": {},
   "source": [
    "#### Comments on regularization using ridge and lasso\n",
    "For Ridge as alpha increases the coefficients gets smaller, I would choose one which seems to get the best amount of information. \n",
    "For Lasso as alpha increases coefficients get closer to one. I would choose .01. \n"
   ]
  },
  {
   "cell_type": "markdown",
   "metadata": {},
   "source": [
    "# End of assignment"
   ]
  }
 ],
 "metadata": {
  "kernelspec": {
   "display_name": "Python 3 (ipykernel)",
   "language": "python",
   "name": "python3"
  },
  "language_info": {
   "codemirror_mode": {
    "name": "ipython",
    "version": 3
   },
   "file_extension": ".py",
   "mimetype": "text/x-python",
   "name": "python",
   "nbconvert_exporter": "python",
   "pygments_lexer": "ipython3",
   "version": "3.9.7"
  }
 },
 "nbformat": 4,
 "nbformat_minor": 4
}
