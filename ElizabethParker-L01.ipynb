{
 "cells": [
  {
   "cell_type": "markdown",
   "id": "f241ea84-8ea6-4b0b-8fe8-4f50105535ca",
   "metadata": {
    "tags": []
   },
   "source": [
    "\n",
    "# Assignment\n",
    "\n",
    "For this assignment, we assume that you are already familiar with the basics of Python. One of the Python libraries data scientists often use is `numpy`, which is a library that facilitates array computations, such as matrix algebra. What this means is that using numpy, we can manipulate vectors, matrices or any n-dimensional array mostly without the need to write loops, so the code is cleaner and more succinct. In this exercise, we want to learn the basics of `numpy` and `pandas`.\n",
    "\n",
    "1. Create a Python list whose elements are the numbers 3, 7, 1, 3,5.\n",
    "\n"
   ]
  },
  {
   "cell_type": "markdown",
   "id": "e4901916-63c3-4d6d-96dc-cfd18e094e1a",
   "metadata": {
    "tags": []
   },
   "source": [
    "- To create a list I used brackets around the elements in the list. I set the list using an = sign to the name L. I then printed the list to see the elements of the list. \n"
   ]
  },
  {
   "cell_type": "code",
   "execution_count": 1,
   "id": "276097bf-60fd-40c6-972d-9b809793a419",
   "metadata": {
    "tags": []
   },
   "outputs": [
    {
     "name": "stdout",
     "output_type": "stream",
     "text": [
      "[3, 7, 1, 3, 5]\n"
     ]
    }
   ],
   "source": [
    "L=[3,7,1,3,5]\n",
    "print(L)"
   ]
  },
  {
   "cell_type": "markdown",
   "id": "932b56d0-5ec3-4649-925d-912576fb46ab",
   "metadata": {},
   "source": [
    "2.  Write a function that computes the average of a list of numbers. Run your function on the above list so that it returns its average. Your function should only make use of Python **built-ins** (no libraries). <span style=\"color:red\" float:right>[2 point]</span>"
   ]
  },
  {
   "cell_type": "markdown",
   "id": "2ac229d2-d4d8-440e-ad83-52d1283475ae",
   "metadata": {},
   "source": [
    "- To compute the the average of a list of the numbers without using a library I created two new variables. One using len that calculates how many numbers are in the list and the second that uses sum to add up the the numbers in the list. Then I divided the sum of the list by the number of variables in the list to find the average.  \n"
   ]
  },
  {
   "cell_type": "code",
   "execution_count": 2,
   "id": "a78ccff8-925a-4aa2-9d88-ac8f16ed6261",
   "metadata": {},
   "outputs": [
    {
     "name": "stdout",
     "output_type": "stream",
     "text": [
      "3.8\n"
     ]
    }
   ],
   "source": [
    "no = len(L) # this calculates the length of the list\n",
    "summ = sum(L) # this addes up each number in list \n",
    "mean = summ/ no\n",
    "print(mean)"
   ]
  },
  {
   "cell_type": "markdown",
   "id": "54b0dd26-f770-44ee-aa04-b7e62e2ff987",
   "metadata": {},
   "source": [
    "3. Use the `%%timeit` magic to compute the average runtime of your function. Use the `-n 100` switch to choose to re-run the function 100 times (the more often you re-run it, the more accurate the average runtime is). <span style=\"color:red\" float:right>[1 point]</span>"
   ]
  },
  {
   "cell_type": "markdown",
   "id": "636dd0f0-f219-4c6b-a0eb-b1f5e4cd9346",
   "metadata": {},
   "source": [
    "- I used %%timeit magic to get the run time of the function. I learned you need to put the %%timeit function at the top of the cell or it will not run. "
   ]
  },
  {
   "cell_type": "code",
   "execution_count": 3,
   "id": "73b42509-7c72-4431-a0f7-bbb99c73a849",
   "metadata": {},
   "outputs": [
    {
     "name": "stdout",
     "output_type": "stream",
     "text": [
      "320 ns ± 130 ns per loop (mean ± std. dev. of 7 runs, 100 loops each)\n"
     ]
    }
   ],
   "source": [
    "%%timeit -n 100 \n",
    "no = len(L)\n",
    "summ = sum(L)\n",
    "mean = summ/ no\n"
   ]
  },
  {
   "cell_type": "markdown",
   "id": "f59cae59-e9b6-47c2-a202-75726e7d30f8",
   "metadata": {},
   "source": [
    "4. Load the `numpy` library and use it to turn the above list into a `numpy` 1-D array. HINT: Use `numpy.array`. <span style=\"color:red\" float:right>[1 point]</span>"
   ]
  },
  {
   "cell_type": "markdown",
   "id": "03fab156-8092-4d22-92f5-5ae925dfca22",
   "metadata": {},
   "source": [
    "- I used import to load the library. The np.array function creates an array. "
   ]
  },
  {
   "cell_type": "code",
   "execution_count": 4,
   "id": "dfc867da-0200-4fec-bb48-2e914e3ad43c",
   "metadata": {},
   "outputs": [
    {
     "name": "stdout",
     "output_type": "stream",
     "text": [
      "[3 7 1 3 5]\n"
     ]
    }
   ],
   "source": [
    "import numpy as np\n",
    "LA = np.array(L)\n",
    "print(LA)"
   ]
  },
  {
   "cell_type": "markdown",
   "id": "3dabc5ab-0ec2-4533-a589-df1917d02e7c",
   "metadata": {},
   "source": [
    "Because getting the average of an array is a common operation, with `numpy` we don't have to \"re-invent the wheel\": we can just call the `mean` function. There are two ways of doing this: (1) you can call the `numpy.mean` function and pass it the array, or (2) you can call the `mean` method of the array. \n",
    "\n",
    "5. Print the average of the above array. Get the average using `numpy` in **both** of the ways described above. <span style=\"color:red\" float:right>[2 point]</span>"
   ]
  },
  {
   "cell_type": "markdown",
   "id": "7f39c77a-e29a-473a-8222-8adedb909732",
   "metadata": {
    "tags": []
   },
   "source": [
    "- Both ways get the same answer. The first one is object orientated and the other is function orientated. "
   ]
  },
  {
   "cell_type": "code",
   "execution_count": 5,
   "id": "286a5271-3da6-422e-9940-94c5b0bde022",
   "metadata": {},
   "outputs": [
    {
     "data": {
      "text/plain": [
       "3.8"
      ]
     },
     "execution_count": 5,
     "metadata": {},
     "output_type": "execute_result"
    }
   ],
   "source": [
    "LA.mean()\n"
   ]
  },
  {
   "cell_type": "code",
   "execution_count": 6,
   "id": "6c8c0b8f-f33f-424e-b258-669d6c8be4e6",
   "metadata": {},
   "outputs": [
    {
     "data": {
      "text/plain": [
       "3.8"
      ]
     },
     "execution_count": 6,
     "metadata": {},
     "output_type": "execute_result"
    }
   ],
   "source": [
    "np.mean(LA)"
   ]
  },
  {
   "cell_type": "markdown",
   "id": "71ecfae9-ac3a-4b49-82a1-ff8598ab049d",
   "metadata": {},
   "source": [
    "- Passing the np.mean function through the list \"L\" will get the mean of the list. "
   ]
  },
  {
   "cell_type": "code",
   "execution_count": 7,
   "id": "27df93fd-a3b9-4758-a92a-b69f9c589c80",
   "metadata": {},
   "outputs": [
    {
     "data": {
      "text/plain": [
       "3.8"
      ]
     },
     "execution_count": 7,
     "metadata": {},
     "output_type": "execute_result"
    }
   ],
   "source": [
    "np.mean(L)\n"
   ]
  },
  {
   "cell_type": "markdown",
   "id": "7db95357-6bef-4bbc-9766-a757ef457756",
   "metadata": {},
   "source": [
    "6. Compare the runtime of the average computation using `numpy` with the runtime of the function you wrote eariler. <span style=\"color:red\" float:right>[1 point]</span>"
   ]
  },
  {
   "cell_type": "markdown",
   "id": "b36b63b1-ebaf-469f-8cc3-9cc17bcc93ea",
   "metadata": {},
   "source": [
    "- The run time is faster with the  built in function than the numpy function. "
   ]
  },
  {
   "cell_type": "code",
   "execution_count": 8,
   "id": "34d23910-fb8c-4718-a5a5-a7cdd635233c",
   "metadata": {},
   "outputs": [
    {
     "name": "stdout",
     "output_type": "stream",
     "text": [
      "8.74 µs ± 706 ns per loop (mean ± std. dev. of 7 runs, 100 loops each)\n"
     ]
    }
   ],
   "source": [
    "%%timeit -n 100\n",
    "np.mean(LA)\n",
    "\n"
   ]
  },
  {
   "cell_type": "markdown",
   "id": "284f13c8-a972-432d-9cb6-a88557f01331",
   "metadata": {},
   "source": [
    "Of course, most data scientists don't write their own machine learning algorithms. Instead we use existing algorithms and apply them to real-world problems. So `numpy` is to some extent too \"low level\" and we need a higher level library like `pandas` to work with data. So what do `numpy` and `pandas` have in common? First let's see what a 1-D array looks like in `pandas`:\n",
    "\n",
    "7. Load the `pandas` library and use `pandas.Series` to create a pandas `Series` object, which is the equivalent of a `numpy` 1-D array. <span style=\"color:red\" float:right>[1 point]</span>"
   ]
  },
  {
   "cell_type": "markdown",
   "id": "a26bc47f-4cc0-4ed9-b7bf-2b5db55f5e5e",
   "metadata": {},
   "source": [
    "- I imported pandas as pd and the used the Series function to create a pandas Series. "
   ]
  },
  {
   "cell_type": "code",
   "execution_count": 9,
   "id": "b82dcd1b-7e5a-4097-9c0e-3123651da9b0",
   "metadata": {},
   "outputs": [
    {
     "name": "stdout",
     "output_type": "stream",
     "text": [
      "0    3\n",
      "1    7\n",
      "2    1\n",
      "3    3\n",
      "4    5\n",
      "dtype: int64\n"
     ]
    }
   ],
   "source": [
    "import pandas as pd\n",
    "numbers= pd.Series([3, 7, 1, 3, 5])\n",
    "print(numbers)"
   ]
  },
  {
   "cell_type": "markdown",
   "id": "054c33ea-c39f-466e-b64c-62344ff56a6f",
   "metadata": {},
   "source": [
    "8. Pass the `Series` to the `numpy.mean` function to confirm it returns its average. <span style=\"color:red\" float:right>[1 point]</span>"
   ]
  },
  {
   "cell_type": "markdown",
   "id": "74a890df-8dbd-4763-8a5d-cf6251d705f9",
   "metadata": {},
   "source": [
    "- The series of pandas is compatiable with the numpy.mean function."
   ]
  },
  {
   "cell_type": "code",
   "execution_count": 10,
   "id": "8a0605fd-f702-4860-aa02-55c74c763e1f",
   "metadata": {},
   "outputs": [
    {
     "data": {
      "text/plain": [
       "3.8"
      ]
     },
     "execution_count": 10,
     "metadata": {},
     "output_type": "execute_result"
    }
   ],
   "source": [
    "np.mean(numbers)"
   ]
  },
  {
   "cell_type": "markdown",
   "id": "086fada1-c709-4b8d-bc79-bdd452bb3c22",
   "metadata": {},
   "source": [
    "9. Call the `mean` method of the `Series` and confirm it returns its average. <span style=\"color:red\" float:right>[1 point]</span>"
   ]
  },
  {
   "cell_type": "markdown",
   "id": "53005612-c363-4493-817d-17655ca2417f",
   "metadata": {},
   "source": [
    "The mean function of pandas works the same as the numpy.mean and gets the same answer. "
   ]
  },
  {
   "cell_type": "code",
   "execution_count": 11,
   "id": "56d916e6-605b-44de-bdf1-07062ee8dd15",
   "metadata": {},
   "outputs": [
    {
     "data": {
      "text/plain": [
       "3.8"
      ]
     },
     "execution_count": 11,
     "metadata": {},
     "output_type": "execute_result"
    }
   ],
   "source": [
    "numbers.mean()"
   ]
  },
  {
   "cell_type": "markdown",
   "id": "7c4a0e90-aaed-4504-a376-0f84196b552f",
   "metadata": {},
   "source": [
    "So you can think of a `Series` in `pandas` almost as the same thing as a 1-D array in `numpy`. In fact calling the `values` attribute of the `Series` returns it as a numpy array.\n",
    "\n",
    "10. Show that by calling the `values` attribute of a `Series` object, you get a `numpy` array. HINT: You can use the `type` built-in to check its type. <span style=\"color:red\" float:right>[1 point]</span>"
   ]
  },
  {
   "cell_type": "markdown",
   "id": "b7c7f841-f03d-45c1-bd58-2d7bbbaf73e9",
   "metadata": {},
   "source": [
    "- I used the type built-in to check its type. "
   ]
  },
  {
   "cell_type": "code",
   "execution_count": 12,
   "id": "098606a4-8e75-40a4-bd4e-21d9924aa418",
   "metadata": {
    "tags": []
   },
   "outputs": [
    {
     "data": {
      "text/plain": [
       "numpy.ndarray"
      ]
     },
     "execution_count": 12,
     "metadata": {},
     "output_type": "execute_result"
    }
   ],
   "source": [
    "type(numbers.values)"
   ]
  },
  {
   "cell_type": "markdown",
   "id": "b387ac19-c9f9-483b-8199-50e7ef1e29ad",
   "metadata": {},
   "source": [
    "# End of assignment"
   ]
  }
 ],
 "metadata": {
  "kernelspec": {
   "display_name": "Python 3 (ipykernel)",
   "language": "python",
   "name": "python3"
  },
  "language_info": {
   "codemirror_mode": {
    "name": "ipython",
    "version": 3
   },
   "file_extension": ".py",
   "mimetype": "text/x-python",
   "name": "python",
   "nbconvert_exporter": "python",
   "pygments_lexer": "ipython3",
   "version": "3.9.7"
  }
 },
 "nbformat": 4,
 "nbformat_minor": 5
}
