{
 "cells": [
  {
   "cell_type": "markdown",
   "metadata": {},
   "source": [
    "# Assignment\n",
    "\n",
    "In this assignment, we want to implement cross-validation for logistic regression. Cross-validation is a powerful technique for model selection (such as when choosing the right hyper-parameters), especially when the data size is not very large. The goal of this assignment is to first implement cross-validation and compare it to a baseline model (with no cross-validation)."
   ]
  },
  {
   "cell_type": "code",
   "execution_count": 1,
   "metadata": {},
   "outputs": [],
   "source": [
    "import pandas as pd\n",
    "import numpy as np\n",
    "from sklearn.model_selection import train_test_split\n",
    "from sklearn.linear_model import LogisticRegression\n",
    "from sklearn.linear_model import LogisticRegressionCV\n",
    "from sklearn.metrics import accuracy_score\n",
    "from sklearn.metrics import confusion_matrix\n",
    "from sklearn.metrics import classification_report\n",
    "from sklearn.metrics import roc_curve\n",
    "from sklearn.metrics import auc\n",
    "import matplotlib.pyplot as plt\n",
    "import warnings\n",
    "warnings.simplefilter(\"ignore\")\n",
    "%matplotlib inline\n",
    "random_state = 0"
   ]
  },
  {
   "cell_type": "markdown",
   "metadata": {},
   "source": [
    "### Get Data\n",
    "Read in `AmesFeatures.csv` which contains the processed data from the lecture.  This data file can be found in canvas.  If you want, you can generate this data file yourself by uncommenting the line `# AmesFeatures.to_csv('AmesFeatures.csv', index=False)` in file `Lesson_10_b_Student.ipynb`.  You may need to change the path below.  <br/><span style=\"color:red\" float:right>[0 point]</span>"
   ]
  },
  {
   "cell_type": "code",
   "execution_count": 2,
   "metadata": {},
   "outputs": [
    {
     "data": {
      "text/plain": [
       "False    1330\n",
       "True      130\n",
       "Name: SalePrice, dtype: int64"
      ]
     },
     "metadata": {},
     "output_type": "display_data"
    },
    {
     "data": {
      "text/plain": [
       "(1460, 91)"
      ]
     },
     "metadata": {},
     "output_type": "display_data"
    },
    {
     "data": {
      "text/html": [
       "<div>\n",
       "<style scoped>\n",
       "    .dataframe tbody tr th:only-of-type {\n",
       "        vertical-align: middle;\n",
       "    }\n",
       "\n",
       "    .dataframe tbody tr th {\n",
       "        vertical-align: top;\n",
       "    }\n",
       "\n",
       "    .dataframe thead th {\n",
       "        text-align: right;\n",
       "    }\n",
       "</style>\n",
       "<table border=\"1\" class=\"dataframe\">\n",
       "  <thead>\n",
       "    <tr style=\"text-align: right;\">\n",
       "      <th></th>\n",
       "      <th>MSSubClass</th>\n",
       "      <th>LotArea</th>\n",
       "      <th>OverallQual</th>\n",
       "      <th>OverallCond</th>\n",
       "      <th>YearBuilt</th>\n",
       "      <th>YearRemodAdd</th>\n",
       "      <th>BsmtFinSF1</th>\n",
       "      <th>BsmtFinSF2</th>\n",
       "      <th>BsmtUnfSF</th>\n",
       "      <th>TotalBsmtSF</th>\n",
       "      <th>...</th>\n",
       "      <th>Electrical_FuseP</th>\n",
       "      <th>Electrical_Mix</th>\n",
       "      <th>Electrical_SBrkr</th>\n",
       "      <th>KitchenQual_Ex</th>\n",
       "      <th>KitchenQual_Fa</th>\n",
       "      <th>KitchenQual_Gd</th>\n",
       "      <th>KitchenQual_TA</th>\n",
       "      <th>PavedDrive_N</th>\n",
       "      <th>PavedDrive_P</th>\n",
       "      <th>PavedDrive_Y</th>\n",
       "    </tr>\n",
       "  </thead>\n",
       "  <tbody>\n",
       "    <tr>\n",
       "      <th>0</th>\n",
       "      <td>60.0</td>\n",
       "      <td>8450.0</td>\n",
       "      <td>7.0</td>\n",
       "      <td>5.0</td>\n",
       "      <td>2003.0</td>\n",
       "      <td>2003.0</td>\n",
       "      <td>706.0</td>\n",
       "      <td>0.0</td>\n",
       "      <td>150.0</td>\n",
       "      <td>856.0</td>\n",
       "      <td>...</td>\n",
       "      <td>0.0</td>\n",
       "      <td>0.0</td>\n",
       "      <td>1.0</td>\n",
       "      <td>0.0</td>\n",
       "      <td>0.0</td>\n",
       "      <td>1.0</td>\n",
       "      <td>0.0</td>\n",
       "      <td>0.0</td>\n",
       "      <td>0.0</td>\n",
       "      <td>1.0</td>\n",
       "    </tr>\n",
       "    <tr>\n",
       "      <th>1</th>\n",
       "      <td>20.0</td>\n",
       "      <td>9600.0</td>\n",
       "      <td>6.0</td>\n",
       "      <td>8.0</td>\n",
       "      <td>1976.0</td>\n",
       "      <td>1976.0</td>\n",
       "      <td>978.0</td>\n",
       "      <td>0.0</td>\n",
       "      <td>284.0</td>\n",
       "      <td>1262.0</td>\n",
       "      <td>...</td>\n",
       "      <td>0.0</td>\n",
       "      <td>0.0</td>\n",
       "      <td>1.0</td>\n",
       "      <td>0.0</td>\n",
       "      <td>0.0</td>\n",
       "      <td>0.0</td>\n",
       "      <td>1.0</td>\n",
       "      <td>0.0</td>\n",
       "      <td>0.0</td>\n",
       "      <td>1.0</td>\n",
       "    </tr>\n",
       "    <tr>\n",
       "      <th>2</th>\n",
       "      <td>60.0</td>\n",
       "      <td>11250.0</td>\n",
       "      <td>7.0</td>\n",
       "      <td>5.0</td>\n",
       "      <td>2001.0</td>\n",
       "      <td>2002.0</td>\n",
       "      <td>486.0</td>\n",
       "      <td>0.0</td>\n",
       "      <td>434.0</td>\n",
       "      <td>920.0</td>\n",
       "      <td>...</td>\n",
       "      <td>0.0</td>\n",
       "      <td>0.0</td>\n",
       "      <td>1.0</td>\n",
       "      <td>0.0</td>\n",
       "      <td>0.0</td>\n",
       "      <td>1.0</td>\n",
       "      <td>0.0</td>\n",
       "      <td>0.0</td>\n",
       "      <td>0.0</td>\n",
       "      <td>1.0</td>\n",
       "    </tr>\n",
       "    <tr>\n",
       "      <th>3</th>\n",
       "      <td>70.0</td>\n",
       "      <td>9550.0</td>\n",
       "      <td>7.0</td>\n",
       "      <td>5.0</td>\n",
       "      <td>1915.0</td>\n",
       "      <td>1970.0</td>\n",
       "      <td>216.0</td>\n",
       "      <td>0.0</td>\n",
       "      <td>540.0</td>\n",
       "      <td>756.0</td>\n",
       "      <td>...</td>\n",
       "      <td>0.0</td>\n",
       "      <td>0.0</td>\n",
       "      <td>1.0</td>\n",
       "      <td>0.0</td>\n",
       "      <td>0.0</td>\n",
       "      <td>1.0</td>\n",
       "      <td>0.0</td>\n",
       "      <td>0.0</td>\n",
       "      <td>0.0</td>\n",
       "      <td>1.0</td>\n",
       "    </tr>\n",
       "    <tr>\n",
       "      <th>4</th>\n",
       "      <td>60.0</td>\n",
       "      <td>14260.0</td>\n",
       "      <td>8.0</td>\n",
       "      <td>5.0</td>\n",
       "      <td>2000.0</td>\n",
       "      <td>2000.0</td>\n",
       "      <td>655.0</td>\n",
       "      <td>0.0</td>\n",
       "      <td>490.0</td>\n",
       "      <td>1145.0</td>\n",
       "      <td>...</td>\n",
       "      <td>0.0</td>\n",
       "      <td>0.0</td>\n",
       "      <td>1.0</td>\n",
       "      <td>0.0</td>\n",
       "      <td>0.0</td>\n",
       "      <td>1.0</td>\n",
       "      <td>0.0</td>\n",
       "      <td>0.0</td>\n",
       "      <td>0.0</td>\n",
       "      <td>1.0</td>\n",
       "    </tr>\n",
       "    <tr>\n",
       "      <th>...</th>\n",
       "      <td>...</td>\n",
       "      <td>...</td>\n",
       "      <td>...</td>\n",
       "      <td>...</td>\n",
       "      <td>...</td>\n",
       "      <td>...</td>\n",
       "      <td>...</td>\n",
       "      <td>...</td>\n",
       "      <td>...</td>\n",
       "      <td>...</td>\n",
       "      <td>...</td>\n",
       "      <td>...</td>\n",
       "      <td>...</td>\n",
       "      <td>...</td>\n",
       "      <td>...</td>\n",
       "      <td>...</td>\n",
       "      <td>...</td>\n",
       "      <td>...</td>\n",
       "      <td>...</td>\n",
       "      <td>...</td>\n",
       "      <td>...</td>\n",
       "    </tr>\n",
       "    <tr>\n",
       "      <th>1455</th>\n",
       "      <td>60.0</td>\n",
       "      <td>7917.0</td>\n",
       "      <td>6.0</td>\n",
       "      <td>5.0</td>\n",
       "      <td>1999.0</td>\n",
       "      <td>2000.0</td>\n",
       "      <td>0.0</td>\n",
       "      <td>0.0</td>\n",
       "      <td>953.0</td>\n",
       "      <td>953.0</td>\n",
       "      <td>...</td>\n",
       "      <td>0.0</td>\n",
       "      <td>0.0</td>\n",
       "      <td>1.0</td>\n",
       "      <td>0.0</td>\n",
       "      <td>0.0</td>\n",
       "      <td>0.0</td>\n",
       "      <td>1.0</td>\n",
       "      <td>0.0</td>\n",
       "      <td>0.0</td>\n",
       "      <td>1.0</td>\n",
       "    </tr>\n",
       "    <tr>\n",
       "      <th>1456</th>\n",
       "      <td>20.0</td>\n",
       "      <td>13175.0</td>\n",
       "      <td>6.0</td>\n",
       "      <td>6.0</td>\n",
       "      <td>1978.0</td>\n",
       "      <td>1988.0</td>\n",
       "      <td>790.0</td>\n",
       "      <td>163.0</td>\n",
       "      <td>589.0</td>\n",
       "      <td>1542.0</td>\n",
       "      <td>...</td>\n",
       "      <td>0.0</td>\n",
       "      <td>0.0</td>\n",
       "      <td>1.0</td>\n",
       "      <td>0.0</td>\n",
       "      <td>0.0</td>\n",
       "      <td>0.0</td>\n",
       "      <td>1.0</td>\n",
       "      <td>0.0</td>\n",
       "      <td>0.0</td>\n",
       "      <td>1.0</td>\n",
       "    </tr>\n",
       "    <tr>\n",
       "      <th>1457</th>\n",
       "      <td>70.0</td>\n",
       "      <td>9042.0</td>\n",
       "      <td>7.0</td>\n",
       "      <td>9.0</td>\n",
       "      <td>1941.0</td>\n",
       "      <td>2006.0</td>\n",
       "      <td>275.0</td>\n",
       "      <td>0.0</td>\n",
       "      <td>877.0</td>\n",
       "      <td>1152.0</td>\n",
       "      <td>...</td>\n",
       "      <td>0.0</td>\n",
       "      <td>0.0</td>\n",
       "      <td>1.0</td>\n",
       "      <td>0.0</td>\n",
       "      <td>0.0</td>\n",
       "      <td>1.0</td>\n",
       "      <td>0.0</td>\n",
       "      <td>0.0</td>\n",
       "      <td>0.0</td>\n",
       "      <td>1.0</td>\n",
       "    </tr>\n",
       "    <tr>\n",
       "      <th>1458</th>\n",
       "      <td>20.0</td>\n",
       "      <td>9717.0</td>\n",
       "      <td>5.0</td>\n",
       "      <td>6.0</td>\n",
       "      <td>1950.0</td>\n",
       "      <td>1996.0</td>\n",
       "      <td>49.0</td>\n",
       "      <td>1029.0</td>\n",
       "      <td>0.0</td>\n",
       "      <td>1078.0</td>\n",
       "      <td>...</td>\n",
       "      <td>0.0</td>\n",
       "      <td>0.0</td>\n",
       "      <td>0.0</td>\n",
       "      <td>0.0</td>\n",
       "      <td>0.0</td>\n",
       "      <td>1.0</td>\n",
       "      <td>0.0</td>\n",
       "      <td>0.0</td>\n",
       "      <td>0.0</td>\n",
       "      <td>1.0</td>\n",
       "    </tr>\n",
       "    <tr>\n",
       "      <th>1459</th>\n",
       "      <td>20.0</td>\n",
       "      <td>9937.0</td>\n",
       "      <td>5.0</td>\n",
       "      <td>6.0</td>\n",
       "      <td>1965.0</td>\n",
       "      <td>1965.0</td>\n",
       "      <td>830.0</td>\n",
       "      <td>290.0</td>\n",
       "      <td>136.0</td>\n",
       "      <td>1256.0</td>\n",
       "      <td>...</td>\n",
       "      <td>0.0</td>\n",
       "      <td>0.0</td>\n",
       "      <td>1.0</td>\n",
       "      <td>0.0</td>\n",
       "      <td>0.0</td>\n",
       "      <td>0.0</td>\n",
       "      <td>1.0</td>\n",
       "      <td>0.0</td>\n",
       "      <td>0.0</td>\n",
       "      <td>1.0</td>\n",
       "    </tr>\n",
       "  </tbody>\n",
       "</table>\n",
       "<p>1460 rows × 91 columns</p>\n",
       "</div>"
      ],
      "text/plain": [
       "      MSSubClass  LotArea  OverallQual  OverallCond  YearBuilt  YearRemodAdd  \\\n",
       "0           60.0   8450.0          7.0          5.0     2003.0        2003.0   \n",
       "1           20.0   9600.0          6.0          8.0     1976.0        1976.0   \n",
       "2           60.0  11250.0          7.0          5.0     2001.0        2002.0   \n",
       "3           70.0   9550.0          7.0          5.0     1915.0        1970.0   \n",
       "4           60.0  14260.0          8.0          5.0     2000.0        2000.0   \n",
       "...          ...      ...          ...          ...        ...           ...   \n",
       "1455        60.0   7917.0          6.0          5.0     1999.0        2000.0   \n",
       "1456        20.0  13175.0          6.0          6.0     1978.0        1988.0   \n",
       "1457        70.0   9042.0          7.0          9.0     1941.0        2006.0   \n",
       "1458        20.0   9717.0          5.0          6.0     1950.0        1996.0   \n",
       "1459        20.0   9937.0          5.0          6.0     1965.0        1965.0   \n",
       "\n",
       "      BsmtFinSF1  BsmtFinSF2  BsmtUnfSF  TotalBsmtSF  ...  Electrical_FuseP  \\\n",
       "0          706.0         0.0      150.0        856.0  ...               0.0   \n",
       "1          978.0         0.0      284.0       1262.0  ...               0.0   \n",
       "2          486.0         0.0      434.0        920.0  ...               0.0   \n",
       "3          216.0         0.0      540.0        756.0  ...               0.0   \n",
       "4          655.0         0.0      490.0       1145.0  ...               0.0   \n",
       "...          ...         ...        ...          ...  ...               ...   \n",
       "1455         0.0         0.0      953.0        953.0  ...               0.0   \n",
       "1456       790.0       163.0      589.0       1542.0  ...               0.0   \n",
       "1457       275.0         0.0      877.0       1152.0  ...               0.0   \n",
       "1458        49.0      1029.0        0.0       1078.0  ...               0.0   \n",
       "1459       830.0       290.0      136.0       1256.0  ...               0.0   \n",
       "\n",
       "      Electrical_Mix  Electrical_SBrkr  KitchenQual_Ex  KitchenQual_Fa  \\\n",
       "0                0.0               1.0             0.0             0.0   \n",
       "1                0.0               1.0             0.0             0.0   \n",
       "2                0.0               1.0             0.0             0.0   \n",
       "3                0.0               1.0             0.0             0.0   \n",
       "4                0.0               1.0             0.0             0.0   \n",
       "...              ...               ...             ...             ...   \n",
       "1455             0.0               1.0             0.0             0.0   \n",
       "1456             0.0               1.0             0.0             0.0   \n",
       "1457             0.0               1.0             0.0             0.0   \n",
       "1458             0.0               0.0             0.0             0.0   \n",
       "1459             0.0               1.0             0.0             0.0   \n",
       "\n",
       "      KitchenQual_Gd  KitchenQual_TA  PavedDrive_N  PavedDrive_P  PavedDrive_Y  \n",
       "0                1.0             0.0           0.0           0.0           1.0  \n",
       "1                0.0             1.0           0.0           0.0           1.0  \n",
       "2                1.0             0.0           0.0           0.0           1.0  \n",
       "3                1.0             0.0           0.0           0.0           1.0  \n",
       "4                1.0             0.0           0.0           0.0           1.0  \n",
       "...              ...             ...           ...           ...           ...  \n",
       "1455             0.0             1.0           0.0           0.0           1.0  \n",
       "1456             0.0             1.0           0.0           0.0           1.0  \n",
       "1457             1.0             0.0           0.0           0.0           1.0  \n",
       "1458             1.0             0.0           0.0           0.0           1.0  \n",
       "1459             0.0             1.0           0.0           0.0           1.0  \n",
       "\n",
       "[1460 rows x 91 columns]"
      ]
     },
     "metadata": {},
     "output_type": "display_data"
    }
   ],
   "source": [
    "AmesFeatures = pd.read_csv('AmesFeatures.csv')\n",
    "y = (AmesFeatures['SalePrice'] > 200000) & (AmesFeatures['SalePrice'] < 230000)\n",
    "X = AmesFeatures.drop(columns=['Id', 'SalePrice'])\n",
    "display(y.value_counts())\n",
    "display(X.shape)\n",
    "display(X)"
   ]
  },
  {
   "cell_type": "markdown",
   "metadata": {},
   "source": [
    "Use some of the code from the lecture. \n",
    "- Split X and y into X_train, X_test, y_train, and y_test using `test_size = 0.30`.  You may want to use `random_state = 0` to make your results the same as others \n",
    "- Present the counts for False and True in y_train and y_test to verify the imbalanced data in your train and test sets\n",
    "<br/><span style=\"color:red\" float:right>[0 point]</span>"
   ]
  },
  {
   "cell_type": "code",
   "execution_count": 3,
   "metadata": {
    "scrolled": true
   },
   "outputs": [
    {
     "data": {
      "text/plain": [
       "False    930\n",
       "True      92\n",
       "Name: SalePrice, dtype: int64"
      ]
     },
     "metadata": {},
     "output_type": "display_data"
    },
    {
     "data": {
      "text/plain": [
       "False    400\n",
       "True      38\n",
       "Name: SalePrice, dtype: int64"
      ]
     },
     "metadata": {},
     "output_type": "display_data"
    }
   ],
   "source": [
    "# Add code here to splt data into test and train sets\n",
    "X_train, X_test, y_train, y_test = train_test_split(X, y, test_size = 0.30, random_state = 0)\n",
    "# Add code to present the imbalance of the class labels for both test and training\n",
    "\n",
    "\n",
    "display(y_train.value_counts())\n",
    "display(y_test.value_counts())\n",
    "\n"
   ]
  },
  {
   "cell_type": "markdown",
   "metadata": {},
   "source": [
    "1. Train basic `LogisticRegression` classifier (repeat what was done in class)\n",
    " 1. Train a model with `X_train` and `y_train`\n",
    " 2. predict (hard baseline and soft) on training and test features with `.predict()` and `.predict_proba()`\n",
    " 3. evaluate model using confusion matrix (`confusion_matrix`) and its metrics (`classification_report`)\n",
    " 4. evaluate model using ROC and AUC of ROC\n",
    " 5. comment on the model's usability. \n",
    "<br/><span style=\"color:red\" float:right>[2 point]</span>"
   ]
  },
  {
   "cell_type": "markdown",
   "metadata": {},
   "source": [
    "Here is the code for the logistic regression and seen in class. "
   ]
  },
  {
   "cell_type": "code",
   "execution_count": 4,
   "metadata": {},
   "outputs": [
    {
     "data": {
      "text/plain": [
       "LogisticRegression()"
      ]
     },
     "execution_count": 4,
     "metadata": {},
     "output_type": "execute_result"
    }
   ],
   "source": [
    "# Add code here to train the logistic regression\n",
    "from sklearn.linear_model import LogisticRegression\n",
    "logreg = LogisticRegression()\n",
    "logreg.fit(X_train, y_train)"
   ]
  },
  {
   "cell_type": "code",
   "execution_count": 5,
   "metadata": {},
   "outputs": [],
   "source": [
    "# Add code to predict (hard and soft) on training and test features\n",
    "y_train_pred = logreg.predict(X_train)\n",
    "y_train_proba = logreg.predict_proba(X_train)[:,1]\n",
    "\n",
    "y_test_pred = logreg.predict(X_test)\n",
    "y_test_proba = logreg.predict_proba(X_test)[:,1]"
   ]
  },
  {
   "cell_type": "markdown",
   "metadata": {
    "tags": []
   },
   "source": [
    "Here you can see how unbalanced the two groups are. "
   ]
  },
  {
   "cell_type": "code",
   "execution_count": 6,
   "metadata": {},
   "outputs": [
    {
     "name": "stdout",
     "output_type": "stream",
     "text": [
      "Confusion matrix based on training data:\n",
      "[[929   1]\n",
      " [ 92   0]]\n",
      "\n",
      "Confusion matrix as an accuracy measure (test data):\n",
      "[[400   0]\n",
      " [ 38   0]]\n"
     ]
    }
   ],
   "source": [
    "# Add code to evaluate predictions using confusion matrix and its metrics\n",
    "from sklearn import metrics\n",
    "\n",
    "cm_train = metrics.confusion_matrix(y_train, y_train_pred)\n",
    "print('Confusion matrix based on training data:')\n",
    "print(cm_train)\n",
    "print('\\nConfusion matrix as an accuracy measure (test data):')\n",
    "cm_test = metrics.confusion_matrix(y_test, y_test_pred)\n",
    "print(cm_test)\n",
    "\n"
   ]
  },
  {
   "cell_type": "code",
   "execution_count": 7,
   "metadata": {},
   "outputs": [
    {
     "name": "stdout",
     "output_type": "stream",
     "text": [
      "              precision    recall  f1-score   support\n",
      "\n",
      "       False       0.91      1.00      0.95       930\n",
      "        True       0.00      0.00      0.00        92\n",
      "\n",
      "    accuracy                           0.91      1022\n",
      "   macro avg       0.45      0.50      0.48      1022\n",
      "weighted avg       0.83      0.91      0.87      1022\n",
      "\n",
      "              precision    recall  f1-score   support\n",
      "\n",
      "       False       0.91      1.00      0.95       400\n",
      "        True       0.00      0.00      0.00        38\n",
      "\n",
      "    accuracy                           0.91       438\n",
      "   macro avg       0.46      0.50      0.48       438\n",
      "weighted avg       0.83      0.91      0.87       438\n",
      "\n"
     ]
    }
   ],
   "source": [
    "from sklearn.metrics import classification_report\n",
    "print(classification_report(y_train, y_train_pred))\n",
    "print(classification_report(y_test, y_test_pred))"
   ]
  },
  {
   "cell_type": "code",
   "execution_count": 8,
   "metadata": {},
   "outputs": [
    {
     "data": {
      "image/png": "[encoded data removed]",
      "text/plain": [
       "<Figure size 432x288 with 1 Axes>"
      ]
     },
     "metadata": {
      "needs_background": "light"
     },
     "output_type": "display_data"
    }
   ],
   "source": [
    "# Add code to evaluate predictions using ROC\n",
    "fpr, tpr, thresholds = metrics.roc_curve(y_train, y_train_proba)\n",
    "roc_auc = metrics.auc(fpr, tpr)\n",
    "\n",
    "import matplotlib.pyplot as plt\n",
    "plt.title('Receiver Operating Characteristic')\n",
    "plt.plot(fpr, tpr, 'b', label = 'AUC = %0.2f' % roc_auc)\n",
    "plt.legend(loc = 'lower right')\n",
    "plt.plot([0, 1], [0, 1],'r--')\n",
    "plt.xlim([-0.1, 1.1])\n",
    "plt.ylim([-0.1, 1.1])\n",
    "plt.ylabel('True Positive Rate')\n",
    "plt.xlabel('False Positive Rate')\n",
    "plt.show()"
   ]
  },
  {
   "cell_type": "markdown",
   "metadata": {},
   "source": [
    "#### Add Comment on usability\n"
   ]
  },
  {
   "cell_type": "markdown",
   "metadata": {},
   "source": [
    "2. Train `LogisticRegression` with balanced class weights \n",
    " 1. Read the documentation to see what `class_weight` does\n",
    " 2. Train a new model with the same `X_train` and `y_train` settting `class_weight` so the weights are balanced\n",
    " 3. predict (hard and soft) on training and test features with .predict() and .predict_proba()\n",
    " 4. evaluate model using confusion matrix (confusion_matrix) and its metrics (classification_report)\n",
    " 5. evaluate model using ROC\n",
    " 6. How does balancing class weights change any of the results? Why?\n",
    "<br/><span style=\"color:red\" float:right>[3 point]</span>"
   ]
  },
  {
   "cell_type": "code",
   "execution_count": 9,
   "metadata": {},
   "outputs": [
    {
     "data": {
      "text/plain": [
       "LogisticRegression(class_weight='balanced')"
      ]
     },
     "execution_count": 9,
     "metadata": {},
     "output_type": "execute_result"
    }
   ],
   "source": [
    "# Add code here to train the logistic regression with balanced weights\n",
    "\n",
    "logreg = LogisticRegression(class_weight=\"balanced\")\n",
    "logreg.fit(X_train, y_train)"
   ]
  },
  {
   "cell_type": "code",
   "execution_count": 10,
   "metadata": {},
   "outputs": [],
   "source": [
    "# Add code to predict (hard and soft) on training and test features\n",
    "y_train_pred = logreg.predict(X_train)\n",
    "y_train_proba = logreg.predict_proba(X_train)[:,1]\n",
    "\n",
    "y_test_pred = logreg.predict(X_test)\n",
    "y_test_proba = logreg.predict_proba(X_test)[:,1]"
   ]
  },
  {
   "cell_type": "code",
   "execution_count": 11,
   "metadata": {},
   "outputs": [
    {
     "name": "stdout",
     "output_type": "stream",
     "text": [
      "Confusion matrix based on training data:\n",
      "[[639 291]\n",
      " [ 20  72]]\n",
      "\n",
      "Confusion matrix as an accuracy measure (test data):\n",
      "[[276 124]\n",
      " [ 15  23]]\n",
      "              precision    recall  f1-score   support\n",
      "\n",
      "       False       0.97      0.69      0.80       930\n",
      "        True       0.20      0.78      0.32        92\n",
      "\n",
      "    accuracy                           0.70      1022\n",
      "   macro avg       0.58      0.73      0.56      1022\n",
      "weighted avg       0.90      0.70      0.76      1022\n",
      "\n",
      "              precision    recall  f1-score   support\n",
      "\n",
      "       False       0.95      0.69      0.80       400\n",
      "        True       0.16      0.61      0.25        38\n",
      "\n",
      "    accuracy                           0.68       438\n",
      "   macro avg       0.55      0.65      0.52       438\n",
      "weighted avg       0.88      0.68      0.75       438\n",
      "\n"
     ]
    }
   ],
   "source": [
    "# Add code to evaluate predictions using confusion matrix and its metrics\n",
    "\n",
    "cm_train = metrics.confusion_matrix(y_train, y_train_pred)\n",
    "print('Confusion matrix based on training data:')\n",
    "print(cm_train)\n",
    "print('\\nConfusion matrix as an accuracy measure (test data):')\n",
    "cm_test = metrics.confusion_matrix(y_test, y_test_pred)\n",
    "print(cm_test)\n",
    "\n",
    "from sklearn.metrics import classification_report\n",
    "print(classification_report(y_train, y_train_pred))\n",
    "print(classification_report(y_test, y_test_pred))"
   ]
  },
  {
   "cell_type": "code",
   "execution_count": 12,
   "metadata": {},
   "outputs": [
    {
     "data": {
      "image/png": "[encoded data removed]",
      "text/plain": [
       "<Figure size 432x288 with 1 Axes>"
      ]
     },
     "metadata": {
      "needs_background": "light"
     },
     "output_type": "display_data"
    }
   ],
   "source": [
    "# Add code to evaluate predictions using ROC\n",
    "fpr, tpr, thresholds = metrics.roc_curve(y_train, y_train_proba)\n",
    "roc_auc = metrics.auc(fpr, tpr)\n",
    "\n",
    "import matplotlib.pyplot as plt\n",
    "plt.title('Receiver Operating Characteristic')\n",
    "plt.plot(fpr, tpr, 'b', label = 'AUC = %0.2f' % roc_auc)\n",
    "plt.legend(loc = 'lower right')\n",
    "plt.plot([0, 1], [0, 1],'r--')\n",
    "plt.xlim([-0.1, 1.1])\n",
    "plt.ylim([-0.1, 1.1])\n",
    "plt.ylabel('True Positive Rate')\n",
    "plt.xlabel('False Positive Rate')\n",
    "plt.show()"
   ]
  },
  {
   "cell_type": "markdown",
   "metadata": {},
   "source": [
    "#### Add Comment on the effect of weight balancing\n",
    "You can see the model is better fitting, all of the indices have gone up in the balanced model. "
   ]
  },
  {
   "cell_type": "markdown",
   "metadata": {},
   "source": [
    "3. Use `LogisticRegressionCV` to train a cross-validation logistic regression.  The CV stands for cross-validation.\n",
    " 1. train a cross-validation logistic regression\n",
    "    - Use the same `X_train` and `y_train`.\n",
    "    - You may want to use `random_state = 0` to make your results the same as others.\n",
    "    - Set the `cv` parameter to 5.  5 is the default value.\n",
    "    - Set `class_weight` so the weights are balanced\n",
    " 2. predict (hard and soft) on training and test features with `.predict()` and `.predict_proba()`\n",
    " 3. evaluate test and training predictions using confusion matrix (`confusion_matrix`) and its metrics (`classification_report`)\n",
    " 4. evaluate test and training predictions using ROC\n",
    " 5. comment on whether cross-validation makes a difference in the results. \n",
    "<br/><span style=\"color:red\" float:right>[3 point]</span>"
   ]
  },
  {
   "cell_type": "code",
   "execution_count": 13,
   "metadata": {},
   "outputs": [
    {
     "data": {
      "text/plain": [
       "LogisticRegressionCV(class_weight='balanced', cv=5)"
      ]
     },
     "execution_count": 13,
     "metadata": {},
     "output_type": "execute_result"
    }
   ],
   "source": [
    "# Add code to train logistic regression cross-validation (cv = 5)\n",
    "from sklearn.linear_model import LogisticRegressionCV\n",
    "X_train, X_test, y_train, y_test = train_test_split(X, y, test_size = 0.30, random_state = 0)\n",
    "logreg = LogisticRegressionCV(cv=5,class_weight=\"balanced\")\n",
    "logreg.fit(X_train, y_train)"
   ]
  },
  {
   "cell_type": "code",
   "execution_count": 14,
   "metadata": {},
   "outputs": [],
   "source": [
    "# Add code to predict (hard and soft) on training and test features\n",
    "y_train_pred = logreg.predict(X_train)\n",
    "y_train_proba = logreg.predict_proba(X_train)[:,1]\n",
    "\n",
    "y_test_pred = logreg.predict(X_test)\n",
    "y_test_proba = logreg.predict_proba(X_test)[:,1]"
   ]
  },
  {
   "cell_type": "code",
   "execution_count": 15,
   "metadata": {},
   "outputs": [
    {
     "name": "stdout",
     "output_type": "stream",
     "text": [
      "Confusion matrix based on training data:\n",
      "[[640 290]\n",
      " [ 20  72]]\n",
      "\n",
      "Confusion matrix as an accuracy measure (test data):\n",
      "[[276 124]\n",
      " [ 10  28]]\n",
      "              precision    recall  f1-score   support\n",
      "\n",
      "       False       0.97      0.69      0.81       930\n",
      "        True       0.20      0.78      0.32        92\n",
      "\n",
      "    accuracy                           0.70      1022\n",
      "   macro avg       0.58      0.74      0.56      1022\n",
      "weighted avg       0.90      0.70      0.76      1022\n",
      "\n",
      "              precision    recall  f1-score   support\n",
      "\n",
      "       False       0.97      0.69      0.80       400\n",
      "        True       0.18      0.74      0.29        38\n",
      "\n",
      "    accuracy                           0.69       438\n",
      "   macro avg       0.57      0.71      0.55       438\n",
      "weighted avg       0.90      0.69      0.76       438\n",
      "\n"
     ]
    }
   ],
   "source": [
    "# Add code to evaluate predictions using confusion matrix and its metrics\n",
    "\n",
    "cm_train = metrics.confusion_matrix(y_train, y_train_pred)\n",
    "print('Confusion matrix based on training data:')\n",
    "print(cm_train)\n",
    "print('\\nConfusion matrix as an accuracy measure (test data):')\n",
    "cm_test = metrics.confusion_matrix(y_test, y_test_pred)\n",
    "print(cm_test)\n",
    "\n",
    "from sklearn.metrics import classification_report\n",
    "print(classification_report(y_train, y_train_pred))\n",
    "print(classification_report(y_test, y_test_pred))"
   ]
  },
  {
   "cell_type": "code",
   "execution_count": 16,
   "metadata": {},
   "outputs": [
    {
     "data": {
      "image/png": "[encoded data removed]",
      "text/plain": [
       "<Figure size 432x288 with 1 Axes>"
      ]
     },
     "metadata": {
      "needs_background": "light"
     },
     "output_type": "display_data"
    }
   ],
   "source": [
    "# Add code to evaluate predictions using ROC\n",
    "fpr, tpr, thresholds = metrics.roc_curve(y_train, y_train_proba)\n",
    "roc_auc = metrics.auc(fpr, tpr)\n",
    "\n",
    "import matplotlib.pyplot as plt\n",
    "plt.title('Receiver Operating Characteristic')\n",
    "plt.plot(fpr, tpr, 'b', label = 'AUC = %0.2f' % roc_auc)\n",
    "plt.legend(loc = 'lower right')\n",
    "plt.plot([0, 1], [0, 1],'r--')\n",
    "plt.xlim([-0.1, 1.1])\n",
    "plt.ylim([-0.1, 1.1])\n",
    "plt.ylabel('True Positive Rate')\n",
    "plt.xlabel('False Positive Rate')\n",
    "plt.show()"
   ]
  },
  {
   "cell_type": "markdown",
   "metadata": {},
   "source": [
    "#### Add comments on model evaluation and  cross-validation\n",
    "When adding the cross-validation the model improved again. "
   ]
  },
  {
   "cell_type": "markdown",
   "metadata": {},
   "source": [
    "4. Increase the number of folds and train the CV model again:\n",
    " 1. train a cross-validation logistic regression\n",
    "    - Use the same `X_train` and `y_train`.\n",
    "    - You may want to use `random_state = 0` to make your results the same as others.\n",
    "    - Set the `cv` parameter to 10 \n",
    "    - Set `class_weight` so the weights are balanced\n",
    " 2. predict (hard and soft) on training and test features with `.predict()` and `.predict_proba()`\n",
    " 3. evaluate test and training predictions using confusion matrix (`confusion_matrix`) and its metrics (`classification_report`)\n",
    " 4. evaluate test and training predictions using ROC\n",
    " 5. comment on whether cross-validation makes a difference in the results. \n",
    "<br/><span style=\"color:red\" float:right>[2 point]</span>"
   ]
  },
  {
   "cell_type": "code",
   "execution_count": 17,
   "metadata": {
    "scrolled": true
   },
   "outputs": [
    {
     "data": {
      "text/plain": [
       "LogisticRegressionCV(class_weight='balanced', cv=10)"
      ]
     },
     "execution_count": 17,
     "metadata": {},
     "output_type": "execute_result"
    }
   ],
   "source": [
    "# Add code to train logistic regression cross-validation (cv = 10)\n",
    "X_train, X_test, y_train, y_test = train_test_split(X, y, test_size = 0.30, random_state = 0)\n",
    "logreg = LogisticRegressionCV(cv=10,class_weight=\"balanced\")\n",
    "logreg.fit(X_train, y_train)"
   ]
  },
  {
   "cell_type": "code",
   "execution_count": 18,
   "metadata": {},
   "outputs": [],
   "source": [
    "# Add code to predict (hard and soft) on training and test features\n",
    "y_train_pred = logreg.predict(X_train)\n",
    "y_train_proba = logreg.predict_proba(X_train)[:,1]\n",
    "\n",
    "y_test_pred = logreg.predict(X_test)\n",
    "y_test_proba = logreg.predict_proba(X_test)[:,1]"
   ]
  },
  {
   "cell_type": "code",
   "execution_count": 19,
   "metadata": {},
   "outputs": [
    {
     "name": "stdout",
     "output_type": "stream",
     "text": [
      "Confusion matrix based on training data:\n",
      "[[627 303]\n",
      " [ 17  75]]\n",
      "\n",
      "Confusion matrix as an accuracy measure (test data):\n",
      "[[271 129]\n",
      " [  9  29]]\n",
      "              precision    recall  f1-score   support\n",
      "\n",
      "       False       0.97      0.67      0.80       930\n",
      "        True       0.20      0.82      0.32        92\n",
      "\n",
      "    accuracy                           0.69      1022\n",
      "   macro avg       0.59      0.74      0.56      1022\n",
      "weighted avg       0.90      0.69      0.75      1022\n",
      "\n",
      "              precision    recall  f1-score   support\n",
      "\n",
      "       False       0.97      0.68      0.80       400\n",
      "        True       0.18      0.76      0.30        38\n",
      "\n",
      "    accuracy                           0.68       438\n",
      "   macro avg       0.58      0.72      0.55       438\n",
      "weighted avg       0.90      0.68      0.75       438\n",
      "\n"
     ]
    }
   ],
   "source": [
    "# Add code to evaluate model using confusion matrix and its metrics\n",
    "\n",
    "cm_train = metrics.confusion_matrix(y_train, y_train_pred)\n",
    "print('Confusion matrix based on training data:')\n",
    "print(cm_train)\n",
    "print('\\nConfusion matrix as an accuracy measure (test data):')\n",
    "cm_test = metrics.confusion_matrix(y_test, y_test_pred)\n",
    "print(cm_test)\n",
    "\n",
    "from sklearn.metrics import classification_report\n",
    "print(classification_report(y_train, y_train_pred))\n",
    "print(classification_report(y_test, y_test_pred))"
   ]
  },
  {
   "cell_type": "code",
   "execution_count": 20,
   "metadata": {},
   "outputs": [
    {
     "data": {
      "image/png": "[encoded data removed]",
      "text/plain": [
       "<Figure size 432x288 with 1 Axes>"
      ]
     },
     "metadata": {
      "needs_background": "light"
     },
     "output_type": "display_data"
    }
   ],
   "source": [
    "# Add code to evaluate model using ROC\n",
    "fpr, tpr, thresholds = metrics.roc_curve(y_train, y_train_proba)\n",
    "roc_auc = metrics.auc(fpr, tpr)\n",
    "\n",
    "import matplotlib.pyplot as plt\n",
    "plt.title('Receiver Operating Characteristic')\n",
    "plt.plot(fpr, tpr, 'b', label = 'AUC = %0.2f' % roc_auc)\n",
    "plt.legend(loc = 'lower right')\n",
    "plt.plot([0, 1], [0, 1],'r--')\n",
    "plt.xlim([-0.1, 1.1])\n",
    "plt.ylim([-0.1, 1.1])\n",
    "plt.ylabel('True Positive Rate')\n",
    "plt.xlabel('False Positive Rate')\n",
    "plt.show()"
   ]
  },
  {
   "cell_type": "markdown",
   "metadata": {},
   "source": [
    "#### Add comments on model evaluation and extended cross-validation\n",
    "Increasing the cross-validation very marginally inproved the model. "
   ]
  },
  {
   "cell_type": "markdown",
   "metadata": {},
   "source": [
    "5. What was the cost of increasing the number of folds in terms of training run-time? <span style=\"color:red\" float:right>[2 point]</span>"
   ]
  },
  {
   "cell_type": "code",
   "execution_count": 21,
   "metadata": {},
   "outputs": [
    {
     "name": "stdout",
     "output_type": "stream",
     "text": [
      "Runtime for cv 5: 3.13 seconds\n",
      "Runtime for cv 10: 7.26 seconds\n"
     ]
    }
   ],
   "source": [
    "# Add code here to determine cost of increasing folds\n",
    "import time\n",
    "from sklearn.model_selection import train_test_split\n",
    "from sklearn.linear_model import LogisticRegressionCV\n",
    "\n",
    "# Split the data into train and test sets\n",
    "X_train, X_test, y_train, y_test = train_test_split(X, y, test_size=0.30, random_state=0)\n",
    "\n",
    "# Start the timer\n",
    "start_time = time.time()\n",
    "\n",
    "# Create and fit the logistic regression model\n",
    "logreg = LogisticRegressionCV(cv=5, class_weight=\"balanced\")\n",
    "logreg.fit(X_train, y_train)\n",
    "\n",
    "# End the timer\n",
    "end_time = time.time()\n",
    "\n",
    "# Calculate the runtime\n",
    "runtime = end_time - start_time\n",
    "print(\"Runtime for cv 5: {:.2f} seconds\".format(runtime))\n",
    "\n",
    "\n",
    "\n",
    "\n",
    "# Split the data into train and test sets\n",
    "X_train, X_test, y_train, y_test = train_test_split(X, y, test_size=0.30, random_state=0)\n",
    "\n",
    "# Start the timer\n",
    "start_time = time.time()\n",
    "\n",
    "# Create and fit the logistic regression model\n",
    "logreg = LogisticRegressionCV(cv=10, class_weight=\"balanced\")\n",
    "logreg.fit(X_train, y_train)\n",
    "\n",
    "# End the timer\n",
    "end_time = time.time()\n",
    "\n",
    "# Calculate the runtime\n",
    "runtime = end_time - start_time\n",
    "print(\"Runtime for cv 10: {:.2f} seconds\".format(runtime))\n"
   ]
  },
  {
   "cell_type": "markdown",
   "metadata": {},
   "source": [
    "#### Add comments on training run-time here\n",
    "By adding the increased CV it very marginally if at all improved the model and caused the runtime to increase. It seems like adding more CV has deminshed returns at this point.  "
   ]
  },
  {
   "cell_type": "markdown",
   "metadata": {},
   "source": [
    "# End of assignment"
   ]
  }
 ],
 "metadata": {
  "anaconda-cloud": {},
  "kernelspec": {
   "display_name": "Python 3 (ipykernel)",
   "language": "python",
   "name": "python3"
  },
  "language_info": {
   "codemirror_mode": {
    "name": "ipython",
    "version": 3
   },
   "file_extension": ".py",
   "mimetype": "text/x-python",
   "name": "python",
   "nbconvert_exporter": "python",
   "pygments_lexer": "ipython3",
   "version": "3.9.7"
  }
 },
 "nbformat": 4,
 "nbformat_minor": 4
}
